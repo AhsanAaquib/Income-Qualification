{
 "cells": [
  {
   "cell_type": "code",
   "execution_count": 1,
   "id": "9b22289d",
   "metadata": {},
   "outputs": [],
   "source": [
    "import numpy as np\n",
    "import pandas as pd\n",
    "import matplotlib.pyplot as plt\n",
    "%matplotlib inline\n",
    "import seaborn as sns\n",
    "sns.set()\n",
    "\n",
    "\n",
    "import warnings\n",
    "warnings.filterwarnings('ignore')"
   ]
  },
  {
   "cell_type": "markdown",
   "id": "7bc7fbd4",
   "metadata": {},
   "source": [
    "### Importing the Data "
   ]
  },
  {
   "cell_type": "code",
   "execution_count": 2,
   "id": "9f844b95",
   "metadata": {},
   "outputs": [],
   "source": [
    "income_train = pd.read_csv(r\"C:\\Users\\ADMIN\\Desktop\\Data Scientist\\Machine Learning\\Projects\\Project 2- Income qualification\\Dataset for the project\\train.csv\")\n",
    "income_test =  pd.read_csv(r\"C:\\Users\\ADMIN\\Desktop\\Data Scientist\\Machine Learning\\Projects\\Project 2- Income qualification\\Dataset for the project\\test.csv\")"
   ]
  },
  {
   "cell_type": "code",
   "execution_count": 3,
   "id": "c455bfda",
   "metadata": {},
   "outputs": [
    {
     "data": {
      "text/html": [
       "<div>\n",
       "<style scoped>\n",
       "    .dataframe tbody tr th:only-of-type {\n",
       "        vertical-align: middle;\n",
       "    }\n",
       "\n",
       "    .dataframe tbody tr th {\n",
       "        vertical-align: top;\n",
       "    }\n",
       "\n",
       "    .dataframe thead th {\n",
       "        text-align: right;\n",
       "    }\n",
       "</style>\n",
       "<table border=\"1\" class=\"dataframe\">\n",
       "  <thead>\n",
       "    <tr style=\"text-align: right;\">\n",
       "      <th></th>\n",
       "      <th>Id</th>\n",
       "      <th>v2a1</th>\n",
       "      <th>hacdor</th>\n",
       "      <th>rooms</th>\n",
       "      <th>hacapo</th>\n",
       "      <th>v14a</th>\n",
       "      <th>refrig</th>\n",
       "      <th>v18q</th>\n",
       "      <th>v18q1</th>\n",
       "      <th>r4h1</th>\n",
       "      <th>...</th>\n",
       "      <th>SQBescolari</th>\n",
       "      <th>SQBage</th>\n",
       "      <th>SQBhogar_total</th>\n",
       "      <th>SQBedjefe</th>\n",
       "      <th>SQBhogar_nin</th>\n",
       "      <th>SQBovercrowding</th>\n",
       "      <th>SQBdependency</th>\n",
       "      <th>SQBmeaned</th>\n",
       "      <th>agesq</th>\n",
       "      <th>Target</th>\n",
       "    </tr>\n",
       "  </thead>\n",
       "  <tbody>\n",
       "    <tr>\n",
       "      <th>0</th>\n",
       "      <td>ID_279628684</td>\n",
       "      <td>190000.0</td>\n",
       "      <td>0</td>\n",
       "      <td>3</td>\n",
       "      <td>0</td>\n",
       "      <td>1</td>\n",
       "      <td>1</td>\n",
       "      <td>0</td>\n",
       "      <td>NaN</td>\n",
       "      <td>0</td>\n",
       "      <td>...</td>\n",
       "      <td>100</td>\n",
       "      <td>1849</td>\n",
       "      <td>1</td>\n",
       "      <td>100</td>\n",
       "      <td>0</td>\n",
       "      <td>1.000000</td>\n",
       "      <td>0.0</td>\n",
       "      <td>100.0</td>\n",
       "      <td>1849</td>\n",
       "      <td>4</td>\n",
       "    </tr>\n",
       "    <tr>\n",
       "      <th>1</th>\n",
       "      <td>ID_f29eb3ddd</td>\n",
       "      <td>135000.0</td>\n",
       "      <td>0</td>\n",
       "      <td>4</td>\n",
       "      <td>0</td>\n",
       "      <td>1</td>\n",
       "      <td>1</td>\n",
       "      <td>1</td>\n",
       "      <td>1.0</td>\n",
       "      <td>0</td>\n",
       "      <td>...</td>\n",
       "      <td>144</td>\n",
       "      <td>4489</td>\n",
       "      <td>1</td>\n",
       "      <td>144</td>\n",
       "      <td>0</td>\n",
       "      <td>1.000000</td>\n",
       "      <td>64.0</td>\n",
       "      <td>144.0</td>\n",
       "      <td>4489</td>\n",
       "      <td>4</td>\n",
       "    </tr>\n",
       "    <tr>\n",
       "      <th>2</th>\n",
       "      <td>ID_68de51c94</td>\n",
       "      <td>NaN</td>\n",
       "      <td>0</td>\n",
       "      <td>8</td>\n",
       "      <td>0</td>\n",
       "      <td>1</td>\n",
       "      <td>1</td>\n",
       "      <td>0</td>\n",
       "      <td>NaN</td>\n",
       "      <td>0</td>\n",
       "      <td>...</td>\n",
       "      <td>121</td>\n",
       "      <td>8464</td>\n",
       "      <td>1</td>\n",
       "      <td>0</td>\n",
       "      <td>0</td>\n",
       "      <td>0.250000</td>\n",
       "      <td>64.0</td>\n",
       "      <td>121.0</td>\n",
       "      <td>8464</td>\n",
       "      <td>4</td>\n",
       "    </tr>\n",
       "    <tr>\n",
       "      <th>3</th>\n",
       "      <td>ID_d671db89c</td>\n",
       "      <td>180000.0</td>\n",
       "      <td>0</td>\n",
       "      <td>5</td>\n",
       "      <td>0</td>\n",
       "      <td>1</td>\n",
       "      <td>1</td>\n",
       "      <td>1</td>\n",
       "      <td>1.0</td>\n",
       "      <td>0</td>\n",
       "      <td>...</td>\n",
       "      <td>81</td>\n",
       "      <td>289</td>\n",
       "      <td>16</td>\n",
       "      <td>121</td>\n",
       "      <td>4</td>\n",
       "      <td>1.777778</td>\n",
       "      <td>1.0</td>\n",
       "      <td>121.0</td>\n",
       "      <td>289</td>\n",
       "      <td>4</td>\n",
       "    </tr>\n",
       "    <tr>\n",
       "      <th>4</th>\n",
       "      <td>ID_d56d6f5f5</td>\n",
       "      <td>180000.0</td>\n",
       "      <td>0</td>\n",
       "      <td>5</td>\n",
       "      <td>0</td>\n",
       "      <td>1</td>\n",
       "      <td>1</td>\n",
       "      <td>1</td>\n",
       "      <td>1.0</td>\n",
       "      <td>0</td>\n",
       "      <td>...</td>\n",
       "      <td>121</td>\n",
       "      <td>1369</td>\n",
       "      <td>16</td>\n",
       "      <td>121</td>\n",
       "      <td>4</td>\n",
       "      <td>1.777778</td>\n",
       "      <td>1.0</td>\n",
       "      <td>121.0</td>\n",
       "      <td>1369</td>\n",
       "      <td>4</td>\n",
       "    </tr>\n",
       "  </tbody>\n",
       "</table>\n",
       "<p>5 rows × 143 columns</p>\n",
       "</div>"
      ],
      "text/plain": [
       "             Id      v2a1  hacdor  rooms  hacapo  v14a  refrig  v18q  v18q1  \\\n",
       "0  ID_279628684  190000.0       0      3       0     1       1     0    NaN   \n",
       "1  ID_f29eb3ddd  135000.0       0      4       0     1       1     1    1.0   \n",
       "2  ID_68de51c94       NaN       0      8       0     1       1     0    NaN   \n",
       "3  ID_d671db89c  180000.0       0      5       0     1       1     1    1.0   \n",
       "4  ID_d56d6f5f5  180000.0       0      5       0     1       1     1    1.0   \n",
       "\n",
       "   r4h1  ...  SQBescolari  SQBage  SQBhogar_total  SQBedjefe  SQBhogar_nin  \\\n",
       "0     0  ...          100    1849               1        100             0   \n",
       "1     0  ...          144    4489               1        144             0   \n",
       "2     0  ...          121    8464               1          0             0   \n",
       "3     0  ...           81     289              16        121             4   \n",
       "4     0  ...          121    1369              16        121             4   \n",
       "\n",
       "   SQBovercrowding  SQBdependency  SQBmeaned  agesq  Target  \n",
       "0         1.000000            0.0      100.0   1849       4  \n",
       "1         1.000000           64.0      144.0   4489       4  \n",
       "2         0.250000           64.0      121.0   8464       4  \n",
       "3         1.777778            1.0      121.0    289       4  \n",
       "4         1.777778            1.0      121.0   1369       4  \n",
       "\n",
       "[5 rows x 143 columns]"
      ]
     },
     "execution_count": 3,
     "metadata": {},
     "output_type": "execute_result"
    }
   ],
   "source": [
    "income_train.head()"
   ]
  },
  {
   "cell_type": "code",
   "execution_count": 4,
   "id": "4793eab0",
   "metadata": {
    "scrolled": true
   },
   "outputs": [
    {
     "data": {
      "text/html": [
       "<div>\n",
       "<style scoped>\n",
       "    .dataframe tbody tr th:only-of-type {\n",
       "        vertical-align: middle;\n",
       "    }\n",
       "\n",
       "    .dataframe tbody tr th {\n",
       "        vertical-align: top;\n",
       "    }\n",
       "\n",
       "    .dataframe thead th {\n",
       "        text-align: right;\n",
       "    }\n",
       "</style>\n",
       "<table border=\"1\" class=\"dataframe\">\n",
       "  <thead>\n",
       "    <tr style=\"text-align: right;\">\n",
       "      <th></th>\n",
       "      <th>Id</th>\n",
       "      <th>v2a1</th>\n",
       "      <th>hacdor</th>\n",
       "      <th>rooms</th>\n",
       "      <th>hacapo</th>\n",
       "      <th>v14a</th>\n",
       "      <th>refrig</th>\n",
       "      <th>v18q</th>\n",
       "      <th>v18q1</th>\n",
       "      <th>r4h1</th>\n",
       "      <th>...</th>\n",
       "      <th>age</th>\n",
       "      <th>SQBescolari</th>\n",
       "      <th>SQBage</th>\n",
       "      <th>SQBhogar_total</th>\n",
       "      <th>SQBedjefe</th>\n",
       "      <th>SQBhogar_nin</th>\n",
       "      <th>SQBovercrowding</th>\n",
       "      <th>SQBdependency</th>\n",
       "      <th>SQBmeaned</th>\n",
       "      <th>agesq</th>\n",
       "    </tr>\n",
       "  </thead>\n",
       "  <tbody>\n",
       "    <tr>\n",
       "      <th>0</th>\n",
       "      <td>ID_2f6873615</td>\n",
       "      <td>NaN</td>\n",
       "      <td>0</td>\n",
       "      <td>5</td>\n",
       "      <td>0</td>\n",
       "      <td>1</td>\n",
       "      <td>1</td>\n",
       "      <td>0</td>\n",
       "      <td>NaN</td>\n",
       "      <td>1</td>\n",
       "      <td>...</td>\n",
       "      <td>4</td>\n",
       "      <td>0</td>\n",
       "      <td>16</td>\n",
       "      <td>9</td>\n",
       "      <td>0</td>\n",
       "      <td>1</td>\n",
       "      <td>2.25</td>\n",
       "      <td>0.25</td>\n",
       "      <td>272.25</td>\n",
       "      <td>16</td>\n",
       "    </tr>\n",
       "    <tr>\n",
       "      <th>1</th>\n",
       "      <td>ID_1c78846d2</td>\n",
       "      <td>NaN</td>\n",
       "      <td>0</td>\n",
       "      <td>5</td>\n",
       "      <td>0</td>\n",
       "      <td>1</td>\n",
       "      <td>1</td>\n",
       "      <td>0</td>\n",
       "      <td>NaN</td>\n",
       "      <td>1</td>\n",
       "      <td>...</td>\n",
       "      <td>41</td>\n",
       "      <td>256</td>\n",
       "      <td>1681</td>\n",
       "      <td>9</td>\n",
       "      <td>0</td>\n",
       "      <td>1</td>\n",
       "      <td>2.25</td>\n",
       "      <td>0.25</td>\n",
       "      <td>272.25</td>\n",
       "      <td>1681</td>\n",
       "    </tr>\n",
       "    <tr>\n",
       "      <th>2</th>\n",
       "      <td>ID_e5442cf6a</td>\n",
       "      <td>NaN</td>\n",
       "      <td>0</td>\n",
       "      <td>5</td>\n",
       "      <td>0</td>\n",
       "      <td>1</td>\n",
       "      <td>1</td>\n",
       "      <td>0</td>\n",
       "      <td>NaN</td>\n",
       "      <td>1</td>\n",
       "      <td>...</td>\n",
       "      <td>41</td>\n",
       "      <td>289</td>\n",
       "      <td>1681</td>\n",
       "      <td>9</td>\n",
       "      <td>0</td>\n",
       "      <td>1</td>\n",
       "      <td>2.25</td>\n",
       "      <td>0.25</td>\n",
       "      <td>272.25</td>\n",
       "      <td>1681</td>\n",
       "    </tr>\n",
       "    <tr>\n",
       "      <th>3</th>\n",
       "      <td>ID_a8db26a79</td>\n",
       "      <td>NaN</td>\n",
       "      <td>0</td>\n",
       "      <td>14</td>\n",
       "      <td>0</td>\n",
       "      <td>1</td>\n",
       "      <td>1</td>\n",
       "      <td>1</td>\n",
       "      <td>1.0</td>\n",
       "      <td>0</td>\n",
       "      <td>...</td>\n",
       "      <td>59</td>\n",
       "      <td>256</td>\n",
       "      <td>3481</td>\n",
       "      <td>1</td>\n",
       "      <td>256</td>\n",
       "      <td>0</td>\n",
       "      <td>1.00</td>\n",
       "      <td>0.00</td>\n",
       "      <td>256.00</td>\n",
       "      <td>3481</td>\n",
       "    </tr>\n",
       "    <tr>\n",
       "      <th>4</th>\n",
       "      <td>ID_a62966799</td>\n",
       "      <td>175000.0</td>\n",
       "      <td>0</td>\n",
       "      <td>4</td>\n",
       "      <td>0</td>\n",
       "      <td>1</td>\n",
       "      <td>1</td>\n",
       "      <td>1</td>\n",
       "      <td>1.0</td>\n",
       "      <td>0</td>\n",
       "      <td>...</td>\n",
       "      <td>18</td>\n",
       "      <td>121</td>\n",
       "      <td>324</td>\n",
       "      <td>1</td>\n",
       "      <td>0</td>\n",
       "      <td>1</td>\n",
       "      <td>0.25</td>\n",
       "      <td>64.00</td>\n",
       "      <td>NaN</td>\n",
       "      <td>324</td>\n",
       "    </tr>\n",
       "  </tbody>\n",
       "</table>\n",
       "<p>5 rows × 142 columns</p>\n",
       "</div>"
      ],
      "text/plain": [
       "             Id      v2a1  hacdor  rooms  hacapo  v14a  refrig  v18q  v18q1  \\\n",
       "0  ID_2f6873615       NaN       0      5       0     1       1     0    NaN   \n",
       "1  ID_1c78846d2       NaN       0      5       0     1       1     0    NaN   \n",
       "2  ID_e5442cf6a       NaN       0      5       0     1       1     0    NaN   \n",
       "3  ID_a8db26a79       NaN       0     14       0     1       1     1    1.0   \n",
       "4  ID_a62966799  175000.0       0      4       0     1       1     1    1.0   \n",
       "\n",
       "   r4h1  ...  age  SQBescolari  SQBage  SQBhogar_total  SQBedjefe  \\\n",
       "0     1  ...    4            0      16               9          0   \n",
       "1     1  ...   41          256    1681               9          0   \n",
       "2     1  ...   41          289    1681               9          0   \n",
       "3     0  ...   59          256    3481               1        256   \n",
       "4     0  ...   18          121     324               1          0   \n",
       "\n",
       "   SQBhogar_nin  SQBovercrowding  SQBdependency  SQBmeaned  agesq  \n",
       "0             1             2.25           0.25     272.25     16  \n",
       "1             1             2.25           0.25     272.25   1681  \n",
       "2             1             2.25           0.25     272.25   1681  \n",
       "3             0             1.00           0.00     256.00   3481  \n",
       "4             1             0.25          64.00        NaN    324  \n",
       "\n",
       "[5 rows x 142 columns]"
      ]
     },
     "execution_count": 4,
     "metadata": {},
     "output_type": "execute_result"
    }
   ],
   "source": [
    "income_test.head()"
   ]
  },
  {
   "cell_type": "code",
   "execution_count": 5,
   "id": "1d4fa9e8",
   "metadata": {},
   "outputs": [
    {
     "data": {
      "text/plain": [
       "pandas.core.frame.DataFrame"
      ]
     },
     "execution_count": 5,
     "metadata": {},
     "output_type": "execute_result"
    }
   ],
   "source": [
    "type(income_train)"
   ]
  },
  {
   "cell_type": "code",
   "execution_count": 6,
   "id": "da3e4138",
   "metadata": {},
   "outputs": [
    {
     "data": {
      "text/plain": [
       "pandas.core.frame.DataFrame"
      ]
     },
     "execution_count": 6,
     "metadata": {},
     "output_type": "execute_result"
    }
   ],
   "source": [
    "type(income_test)"
   ]
  },
  {
   "cell_type": "code",
   "execution_count": 7,
   "id": "c8af326a",
   "metadata": {},
   "outputs": [
    {
     "name": "stdout",
     "output_type": "stream",
     "text": [
      "<class 'pandas.core.frame.DataFrame'>\n",
      "RangeIndex: 9557 entries, 0 to 9556\n",
      "Columns: 143 entries, Id to Target\n",
      "dtypes: float64(8), int64(130), object(5)\n",
      "memory usage: 10.4+ MB\n"
     ]
    }
   ],
   "source": [
    "income_train.info()"
   ]
  },
  {
   "cell_type": "code",
   "execution_count": 8,
   "id": "b45afef8",
   "metadata": {},
   "outputs": [
    {
     "name": "stdout",
     "output_type": "stream",
     "text": [
      "<class 'pandas.core.frame.DataFrame'>\n",
      "RangeIndex: 23856 entries, 0 to 23855\n",
      "Columns: 142 entries, Id to agesq\n",
      "dtypes: float64(8), int64(129), object(5)\n",
      "memory usage: 25.8+ MB\n"
     ]
    }
   ],
   "source": [
    "income_test.info()"
   ]
  },
  {
   "cell_type": "markdown",
   "id": "eb3ef8a2",
   "metadata": {},
   "source": [
    "### Here we dont have Target feature in the test data set"
   ]
  },
  {
   "cell_type": "code",
   "execution_count": 9,
   "id": "ec4f1a37",
   "metadata": {},
   "outputs": [
    {
     "data": {
      "text/plain": [
       "Index(['Id', 'v2a1', 'hacdor', 'rooms', 'hacapo', 'v14a', 'refrig', 'v18q',\n",
       "       'v18q1', 'r4h1',\n",
       "       ...\n",
       "       'SQBescolari', 'SQBage', 'SQBhogar_total', 'SQBedjefe', 'SQBhogar_nin',\n",
       "       'SQBovercrowding', 'SQBdependency', 'SQBmeaned', 'agesq', 'Target'],\n",
       "      dtype='object', length=143)"
      ]
     },
     "execution_count": 9,
     "metadata": {},
     "output_type": "execute_result"
    }
   ],
   "source": [
    "income_train.columns"
   ]
  },
  {
   "cell_type": "code",
   "execution_count": 10,
   "id": "a5bcc4f0",
   "metadata": {
    "scrolled": true
   },
   "outputs": [
    {
     "name": "stdout",
     "output_type": "stream",
     "text": [
      "Integer Type: \n",
      "Index(['hacdor', 'rooms', 'hacapo', 'v14a', 'refrig', 'v18q', 'r4h1', 'r4h2',\n",
      "       'r4h3', 'r4m1',\n",
      "       ...\n",
      "       'area1', 'area2', 'age', 'SQBescolari', 'SQBage', 'SQBhogar_total',\n",
      "       'SQBedjefe', 'SQBhogar_nin', 'agesq', 'Target'],\n",
      "      dtype='object', length=130)\n",
      "\n",
      "\n",
      "Float Type: \n",
      "Index(['v2a1', 'v18q1', 'rez_esc', 'meaneduc', 'overcrowding',\n",
      "       'SQBovercrowding', 'SQBdependency', 'SQBmeaned'],\n",
      "      dtype='object')\n",
      "\n",
      "\n",
      "Object Type: \n",
      "Index(['Id', 'idhogar', 'dependency', 'edjefe', 'edjefa'], dtype='object')\n"
     ]
    }
   ],
   "source": [
    "# List the columns for different datatypes:\n",
    "print('Integer Type: ')\n",
    "print(income_train.select_dtypes(np.int64).columns)\n",
    "print('\\n')\n",
    "print('Float Type: ')\n",
    "print(income_train.select_dtypes(np.float64).columns)\n",
    "print('\\n')\n",
    "print('Object Type: ')\n",
    "print(income_train.select_dtypes(np.object).columns)"
   ]
  },
  {
   "cell_type": "code",
   "execution_count": 11,
   "id": "b6dd1b5b",
   "metadata": {
    "scrolled": false
   },
   "outputs": [
    {
     "data": {
      "text/plain": [
       "Id                 False\n",
       "v2a1                True\n",
       "hacdor             False\n",
       "rooms              False\n",
       "hacapo             False\n",
       "                   ...  \n",
       "SQBovercrowding    False\n",
       "SQBdependency      False\n",
       "SQBmeaned           True\n",
       "agesq              False\n",
       "Target             False\n",
       "Length: 143, dtype: bool"
      ]
     },
     "execution_count": 11,
     "metadata": {},
     "output_type": "execute_result"
    }
   ],
   "source": [
    "income_train.isnull().any()"
   ]
  },
  {
   "cell_type": "code",
   "execution_count": 12,
   "id": "2ba4c8e1",
   "metadata": {},
   "outputs": [
    {
     "data": {
      "text/plain": [
       "Id                    0\n",
       "v2a1               6860\n",
       "hacdor                0\n",
       "rooms                 0\n",
       "hacapo                0\n",
       "                   ... \n",
       "SQBovercrowding       0\n",
       "SQBdependency         0\n",
       "SQBmeaned             5\n",
       "agesq                 0\n",
       "Target                0\n",
       "Length: 143, dtype: int64"
      ]
     },
     "execution_count": 12,
     "metadata": {},
     "output_type": "execute_result"
    }
   ],
   "source": [
    "income_train.isnull().sum()"
   ]
  },
  {
   "cell_type": "code",
   "execution_count": 13,
   "id": "81ed5320",
   "metadata": {},
   "outputs": [
    {
     "data": {
      "text/html": [
       "<div>\n",
       "<style scoped>\n",
       "    .dataframe tbody tr th:only-of-type {\n",
       "        vertical-align: middle;\n",
       "    }\n",
       "\n",
       "    .dataframe tbody tr th {\n",
       "        vertical-align: top;\n",
       "    }\n",
       "\n",
       "    .dataframe thead th {\n",
       "        text-align: right;\n",
       "    }\n",
       "</style>\n",
       "<table border=\"1\" class=\"dataframe\">\n",
       "  <thead>\n",
       "    <tr style=\"text-align: right;\">\n",
       "      <th></th>\n",
       "      <th>hacdor</th>\n",
       "      <th>rooms</th>\n",
       "      <th>hacapo</th>\n",
       "      <th>v14a</th>\n",
       "      <th>refrig</th>\n",
       "      <th>v18q</th>\n",
       "      <th>r4h1</th>\n",
       "      <th>r4h2</th>\n",
       "      <th>r4h3</th>\n",
       "      <th>r4m1</th>\n",
       "      <th>...</th>\n",
       "      <th>area1</th>\n",
       "      <th>area2</th>\n",
       "      <th>age</th>\n",
       "      <th>SQBescolari</th>\n",
       "      <th>SQBage</th>\n",
       "      <th>SQBhogar_total</th>\n",
       "      <th>SQBedjefe</th>\n",
       "      <th>SQBhogar_nin</th>\n",
       "      <th>agesq</th>\n",
       "      <th>Target</th>\n",
       "    </tr>\n",
       "  </thead>\n",
       "  <tbody>\n",
       "    <tr>\n",
       "      <th>0</th>\n",
       "      <td>0</td>\n",
       "      <td>3</td>\n",
       "      <td>0</td>\n",
       "      <td>1</td>\n",
       "      <td>1</td>\n",
       "      <td>0</td>\n",
       "      <td>0</td>\n",
       "      <td>1</td>\n",
       "      <td>1</td>\n",
       "      <td>0</td>\n",
       "      <td>...</td>\n",
       "      <td>1</td>\n",
       "      <td>0</td>\n",
       "      <td>43</td>\n",
       "      <td>100</td>\n",
       "      <td>1849</td>\n",
       "      <td>1</td>\n",
       "      <td>100</td>\n",
       "      <td>0</td>\n",
       "      <td>1849</td>\n",
       "      <td>4</td>\n",
       "    </tr>\n",
       "    <tr>\n",
       "      <th>1</th>\n",
       "      <td>0</td>\n",
       "      <td>4</td>\n",
       "      <td>0</td>\n",
       "      <td>1</td>\n",
       "      <td>1</td>\n",
       "      <td>1</td>\n",
       "      <td>0</td>\n",
       "      <td>1</td>\n",
       "      <td>1</td>\n",
       "      <td>0</td>\n",
       "      <td>...</td>\n",
       "      <td>1</td>\n",
       "      <td>0</td>\n",
       "      <td>67</td>\n",
       "      <td>144</td>\n",
       "      <td>4489</td>\n",
       "      <td>1</td>\n",
       "      <td>144</td>\n",
       "      <td>0</td>\n",
       "      <td>4489</td>\n",
       "      <td>4</td>\n",
       "    </tr>\n",
       "    <tr>\n",
       "      <th>2</th>\n",
       "      <td>0</td>\n",
       "      <td>8</td>\n",
       "      <td>0</td>\n",
       "      <td>1</td>\n",
       "      <td>1</td>\n",
       "      <td>0</td>\n",
       "      <td>0</td>\n",
       "      <td>0</td>\n",
       "      <td>0</td>\n",
       "      <td>0</td>\n",
       "      <td>...</td>\n",
       "      <td>1</td>\n",
       "      <td>0</td>\n",
       "      <td>92</td>\n",
       "      <td>121</td>\n",
       "      <td>8464</td>\n",
       "      <td>1</td>\n",
       "      <td>0</td>\n",
       "      <td>0</td>\n",
       "      <td>8464</td>\n",
       "      <td>4</td>\n",
       "    </tr>\n",
       "    <tr>\n",
       "      <th>3</th>\n",
       "      <td>0</td>\n",
       "      <td>5</td>\n",
       "      <td>0</td>\n",
       "      <td>1</td>\n",
       "      <td>1</td>\n",
       "      <td>1</td>\n",
       "      <td>0</td>\n",
       "      <td>2</td>\n",
       "      <td>2</td>\n",
       "      <td>1</td>\n",
       "      <td>...</td>\n",
       "      <td>1</td>\n",
       "      <td>0</td>\n",
       "      <td>17</td>\n",
       "      <td>81</td>\n",
       "      <td>289</td>\n",
       "      <td>16</td>\n",
       "      <td>121</td>\n",
       "      <td>4</td>\n",
       "      <td>289</td>\n",
       "      <td>4</td>\n",
       "    </tr>\n",
       "    <tr>\n",
       "      <th>4</th>\n",
       "      <td>0</td>\n",
       "      <td>5</td>\n",
       "      <td>0</td>\n",
       "      <td>1</td>\n",
       "      <td>1</td>\n",
       "      <td>1</td>\n",
       "      <td>0</td>\n",
       "      <td>2</td>\n",
       "      <td>2</td>\n",
       "      <td>1</td>\n",
       "      <td>...</td>\n",
       "      <td>1</td>\n",
       "      <td>0</td>\n",
       "      <td>37</td>\n",
       "      <td>121</td>\n",
       "      <td>1369</td>\n",
       "      <td>16</td>\n",
       "      <td>121</td>\n",
       "      <td>4</td>\n",
       "      <td>1369</td>\n",
       "      <td>4</td>\n",
       "    </tr>\n",
       "    <tr>\n",
       "      <th>...</th>\n",
       "      <td>...</td>\n",
       "      <td>...</td>\n",
       "      <td>...</td>\n",
       "      <td>...</td>\n",
       "      <td>...</td>\n",
       "      <td>...</td>\n",
       "      <td>...</td>\n",
       "      <td>...</td>\n",
       "      <td>...</td>\n",
       "      <td>...</td>\n",
       "      <td>...</td>\n",
       "      <td>...</td>\n",
       "      <td>...</td>\n",
       "      <td>...</td>\n",
       "      <td>...</td>\n",
       "      <td>...</td>\n",
       "      <td>...</td>\n",
       "      <td>...</td>\n",
       "      <td>...</td>\n",
       "      <td>...</td>\n",
       "      <td>...</td>\n",
       "    </tr>\n",
       "    <tr>\n",
       "      <th>9552</th>\n",
       "      <td>0</td>\n",
       "      <td>6</td>\n",
       "      <td>0</td>\n",
       "      <td>1</td>\n",
       "      <td>1</td>\n",
       "      <td>0</td>\n",
       "      <td>0</td>\n",
       "      <td>2</td>\n",
       "      <td>2</td>\n",
       "      <td>1</td>\n",
       "      <td>...</td>\n",
       "      <td>0</td>\n",
       "      <td>1</td>\n",
       "      <td>46</td>\n",
       "      <td>81</td>\n",
       "      <td>2116</td>\n",
       "      <td>25</td>\n",
       "      <td>81</td>\n",
       "      <td>1</td>\n",
       "      <td>2116</td>\n",
       "      <td>2</td>\n",
       "    </tr>\n",
       "    <tr>\n",
       "      <th>9553</th>\n",
       "      <td>0</td>\n",
       "      <td>6</td>\n",
       "      <td>0</td>\n",
       "      <td>1</td>\n",
       "      <td>1</td>\n",
       "      <td>0</td>\n",
       "      <td>0</td>\n",
       "      <td>2</td>\n",
       "      <td>2</td>\n",
       "      <td>1</td>\n",
       "      <td>...</td>\n",
       "      <td>0</td>\n",
       "      <td>1</td>\n",
       "      <td>2</td>\n",
       "      <td>0</td>\n",
       "      <td>4</td>\n",
       "      <td>25</td>\n",
       "      <td>81</td>\n",
       "      <td>1</td>\n",
       "      <td>4</td>\n",
       "      <td>2</td>\n",
       "    </tr>\n",
       "    <tr>\n",
       "      <th>9554</th>\n",
       "      <td>0</td>\n",
       "      <td>6</td>\n",
       "      <td>0</td>\n",
       "      <td>1</td>\n",
       "      <td>1</td>\n",
       "      <td>0</td>\n",
       "      <td>0</td>\n",
       "      <td>2</td>\n",
       "      <td>2</td>\n",
       "      <td>1</td>\n",
       "      <td>...</td>\n",
       "      <td>0</td>\n",
       "      <td>1</td>\n",
       "      <td>50</td>\n",
       "      <td>25</td>\n",
       "      <td>2500</td>\n",
       "      <td>25</td>\n",
       "      <td>81</td>\n",
       "      <td>1</td>\n",
       "      <td>2500</td>\n",
       "      <td>2</td>\n",
       "    </tr>\n",
       "    <tr>\n",
       "      <th>9555</th>\n",
       "      <td>0</td>\n",
       "      <td>6</td>\n",
       "      <td>0</td>\n",
       "      <td>1</td>\n",
       "      <td>1</td>\n",
       "      <td>0</td>\n",
       "      <td>0</td>\n",
       "      <td>2</td>\n",
       "      <td>2</td>\n",
       "      <td>1</td>\n",
       "      <td>...</td>\n",
       "      <td>0</td>\n",
       "      <td>1</td>\n",
       "      <td>26</td>\n",
       "      <td>121</td>\n",
       "      <td>676</td>\n",
       "      <td>25</td>\n",
       "      <td>81</td>\n",
       "      <td>1</td>\n",
       "      <td>676</td>\n",
       "      <td>2</td>\n",
       "    </tr>\n",
       "    <tr>\n",
       "      <th>9556</th>\n",
       "      <td>0</td>\n",
       "      <td>6</td>\n",
       "      <td>0</td>\n",
       "      <td>1</td>\n",
       "      <td>1</td>\n",
       "      <td>0</td>\n",
       "      <td>0</td>\n",
       "      <td>2</td>\n",
       "      <td>2</td>\n",
       "      <td>1</td>\n",
       "      <td>...</td>\n",
       "      <td>0</td>\n",
       "      <td>1</td>\n",
       "      <td>21</td>\n",
       "      <td>64</td>\n",
       "      <td>441</td>\n",
       "      <td>25</td>\n",
       "      <td>81</td>\n",
       "      <td>1</td>\n",
       "      <td>441</td>\n",
       "      <td>2</td>\n",
       "    </tr>\n",
       "  </tbody>\n",
       "</table>\n",
       "<p>9557 rows × 130 columns</p>\n",
       "</div>"
      ],
      "text/plain": [
       "      hacdor  rooms  hacapo  v14a  refrig  v18q  r4h1  r4h2  r4h3  r4m1  ...  \\\n",
       "0          0      3       0     1       1     0     0     1     1     0  ...   \n",
       "1          0      4       0     1       1     1     0     1     1     0  ...   \n",
       "2          0      8       0     1       1     0     0     0     0     0  ...   \n",
       "3          0      5       0     1       1     1     0     2     2     1  ...   \n",
       "4          0      5       0     1       1     1     0     2     2     1  ...   \n",
       "...      ...    ...     ...   ...     ...   ...   ...   ...   ...   ...  ...   \n",
       "9552       0      6       0     1       1     0     0     2     2     1  ...   \n",
       "9553       0      6       0     1       1     0     0     2     2     1  ...   \n",
       "9554       0      6       0     1       1     0     0     2     2     1  ...   \n",
       "9555       0      6       0     1       1     0     0     2     2     1  ...   \n",
       "9556       0      6       0     1       1     0     0     2     2     1  ...   \n",
       "\n",
       "      area1  area2  age  SQBescolari  SQBage  SQBhogar_total  SQBedjefe  \\\n",
       "0         1      0   43          100    1849               1        100   \n",
       "1         1      0   67          144    4489               1        144   \n",
       "2         1      0   92          121    8464               1          0   \n",
       "3         1      0   17           81     289              16        121   \n",
       "4         1      0   37          121    1369              16        121   \n",
       "...     ...    ...  ...          ...     ...             ...        ...   \n",
       "9552      0      1   46           81    2116              25         81   \n",
       "9553      0      1    2            0       4              25         81   \n",
       "9554      0      1   50           25    2500              25         81   \n",
       "9555      0      1   26          121     676              25         81   \n",
       "9556      0      1   21           64     441              25         81   \n",
       "\n",
       "      SQBhogar_nin  agesq  Target  \n",
       "0                0   1849       4  \n",
       "1                0   4489       4  \n",
       "2                0   8464       4  \n",
       "3                4    289       4  \n",
       "4                4   1369       4  \n",
       "...            ...    ...     ...  \n",
       "9552             1   2116       2  \n",
       "9553             1      4       2  \n",
       "9554             1   2500       2  \n",
       "9555             1    676       2  \n",
       "9556             1    441       2  \n",
       "\n",
       "[9557 rows x 130 columns]"
      ]
     },
     "execution_count": 13,
     "metadata": {},
     "output_type": "execute_result"
    }
   ],
   "source": [
    "income_train.select_dtypes('int64')"
   ]
  },
  {
   "cell_type": "code",
   "execution_count": 14,
   "id": "5877a26b",
   "metadata": {},
   "outputs": [
    {
     "data": {
      "text/plain": [
       "Series([], dtype: int64)"
      ]
     },
     "execution_count": 14,
     "metadata": {},
     "output_type": "execute_result"
    }
   ],
   "source": [
    "#Find columns with null values in integer data types\n",
    "null_counts=income_train.select_dtypes('int64').isnull().sum()\n",
    "null_counts[null_counts > 0]"
   ]
  },
  {
   "cell_type": "code",
   "execution_count": 15,
   "id": "7fda0647",
   "metadata": {
    "scrolled": true
   },
   "outputs": [
    {
     "data": {
      "text/html": [
       "<div>\n",
       "<style scoped>\n",
       "    .dataframe tbody tr th:only-of-type {\n",
       "        vertical-align: middle;\n",
       "    }\n",
       "\n",
       "    .dataframe tbody tr th {\n",
       "        vertical-align: top;\n",
       "    }\n",
       "\n",
       "    .dataframe thead th {\n",
       "        text-align: right;\n",
       "    }\n",
       "</style>\n",
       "<table border=\"1\" class=\"dataframe\">\n",
       "  <thead>\n",
       "    <tr style=\"text-align: right;\">\n",
       "      <th></th>\n",
       "      <th>v2a1</th>\n",
       "      <th>v18q1</th>\n",
       "      <th>rez_esc</th>\n",
       "      <th>meaneduc</th>\n",
       "      <th>overcrowding</th>\n",
       "      <th>SQBovercrowding</th>\n",
       "      <th>SQBdependency</th>\n",
       "      <th>SQBmeaned</th>\n",
       "    </tr>\n",
       "  </thead>\n",
       "  <tbody>\n",
       "    <tr>\n",
       "      <th>0</th>\n",
       "      <td>190000.0</td>\n",
       "      <td>NaN</td>\n",
       "      <td>NaN</td>\n",
       "      <td>10.0</td>\n",
       "      <td>1.000000</td>\n",
       "      <td>1.000000</td>\n",
       "      <td>0.0</td>\n",
       "      <td>100.0</td>\n",
       "    </tr>\n",
       "    <tr>\n",
       "      <th>1</th>\n",
       "      <td>135000.0</td>\n",
       "      <td>1.0</td>\n",
       "      <td>NaN</td>\n",
       "      <td>12.0</td>\n",
       "      <td>1.000000</td>\n",
       "      <td>1.000000</td>\n",
       "      <td>64.0</td>\n",
       "      <td>144.0</td>\n",
       "    </tr>\n",
       "    <tr>\n",
       "      <th>2</th>\n",
       "      <td>NaN</td>\n",
       "      <td>NaN</td>\n",
       "      <td>NaN</td>\n",
       "      <td>11.0</td>\n",
       "      <td>0.500000</td>\n",
       "      <td>0.250000</td>\n",
       "      <td>64.0</td>\n",
       "      <td>121.0</td>\n",
       "    </tr>\n",
       "    <tr>\n",
       "      <th>3</th>\n",
       "      <td>180000.0</td>\n",
       "      <td>1.0</td>\n",
       "      <td>1.0</td>\n",
       "      <td>11.0</td>\n",
       "      <td>1.333333</td>\n",
       "      <td>1.777778</td>\n",
       "      <td>1.0</td>\n",
       "      <td>121.0</td>\n",
       "    </tr>\n",
       "    <tr>\n",
       "      <th>4</th>\n",
       "      <td>180000.0</td>\n",
       "      <td>1.0</td>\n",
       "      <td>NaN</td>\n",
       "      <td>11.0</td>\n",
       "      <td>1.333333</td>\n",
       "      <td>1.777778</td>\n",
       "      <td>1.0</td>\n",
       "      <td>121.0</td>\n",
       "    </tr>\n",
       "  </tbody>\n",
       "</table>\n",
       "</div>"
      ],
      "text/plain": [
       "       v2a1  v18q1  rez_esc  meaneduc  overcrowding  SQBovercrowding  \\\n",
       "0  190000.0    NaN      NaN      10.0      1.000000         1.000000   \n",
       "1  135000.0    1.0      NaN      12.0      1.000000         1.000000   \n",
       "2       NaN    NaN      NaN      11.0      0.500000         0.250000   \n",
       "3  180000.0    1.0      1.0      11.0      1.333333         1.777778   \n",
       "4  180000.0    1.0      NaN      11.0      1.333333         1.777778   \n",
       "\n",
       "   SQBdependency  SQBmeaned  \n",
       "0            0.0      100.0  \n",
       "1           64.0      144.0  \n",
       "2           64.0      121.0  \n",
       "3            1.0      121.0  \n",
       "4            1.0      121.0  "
      ]
     },
     "execution_count": 15,
     "metadata": {},
     "output_type": "execute_result"
    }
   ],
   "source": [
    "income_train.select_dtypes('float64').head()"
   ]
  },
  {
   "cell_type": "code",
   "execution_count": 16,
   "id": "deed8b53",
   "metadata": {
    "scrolled": true
   },
   "outputs": [
    {
     "data": {
      "text/plain": [
       "v2a1         6860\n",
       "v18q1        7342\n",
       "rez_esc      7928\n",
       "meaneduc        5\n",
       "SQBmeaned       5\n",
       "dtype: int64"
      ]
     },
     "execution_count": 16,
     "metadata": {},
     "output_type": "execute_result"
    }
   ],
   "source": [
    "#Find columns with null values\n",
    "null_counts=income_train.select_dtypes('float64').isnull().sum()\n",
    "null_counts[null_counts > 0]"
   ]
  },
  {
   "cell_type": "code",
   "execution_count": 17,
   "id": "6a3b36b7",
   "metadata": {},
   "outputs": [
    {
     "data": {
      "text/html": [
       "<div>\n",
       "<style scoped>\n",
       "    .dataframe tbody tr th:only-of-type {\n",
       "        vertical-align: middle;\n",
       "    }\n",
       "\n",
       "    .dataframe tbody tr th {\n",
       "        vertical-align: top;\n",
       "    }\n",
       "\n",
       "    .dataframe thead th {\n",
       "        text-align: right;\n",
       "    }\n",
       "</style>\n",
       "<table border=\"1\" class=\"dataframe\">\n",
       "  <thead>\n",
       "    <tr style=\"text-align: right;\">\n",
       "      <th></th>\n",
       "      <th>Id</th>\n",
       "      <th>idhogar</th>\n",
       "      <th>dependency</th>\n",
       "      <th>edjefe</th>\n",
       "      <th>edjefa</th>\n",
       "    </tr>\n",
       "  </thead>\n",
       "  <tbody>\n",
       "    <tr>\n",
       "      <th>0</th>\n",
       "      <td>ID_279628684</td>\n",
       "      <td>21eb7fcc1</td>\n",
       "      <td>no</td>\n",
       "      <td>10</td>\n",
       "      <td>no</td>\n",
       "    </tr>\n",
       "    <tr>\n",
       "      <th>1</th>\n",
       "      <td>ID_f29eb3ddd</td>\n",
       "      <td>0e5d7a658</td>\n",
       "      <td>8</td>\n",
       "      <td>12</td>\n",
       "      <td>no</td>\n",
       "    </tr>\n",
       "    <tr>\n",
       "      <th>2</th>\n",
       "      <td>ID_68de51c94</td>\n",
       "      <td>2c7317ea8</td>\n",
       "      <td>8</td>\n",
       "      <td>no</td>\n",
       "      <td>11</td>\n",
       "    </tr>\n",
       "    <tr>\n",
       "      <th>3</th>\n",
       "      <td>ID_d671db89c</td>\n",
       "      <td>2b58d945f</td>\n",
       "      <td>yes</td>\n",
       "      <td>11</td>\n",
       "      <td>no</td>\n",
       "    </tr>\n",
       "    <tr>\n",
       "      <th>4</th>\n",
       "      <td>ID_d56d6f5f5</td>\n",
       "      <td>2b58d945f</td>\n",
       "      <td>yes</td>\n",
       "      <td>11</td>\n",
       "      <td>no</td>\n",
       "    </tr>\n",
       "  </tbody>\n",
       "</table>\n",
       "</div>"
      ],
      "text/plain": [
       "             Id    idhogar dependency edjefe edjefa\n",
       "0  ID_279628684  21eb7fcc1         no     10     no\n",
       "1  ID_f29eb3ddd  0e5d7a658          8     12     no\n",
       "2  ID_68de51c94  2c7317ea8          8     no     11\n",
       "3  ID_d671db89c  2b58d945f        yes     11     no\n",
       "4  ID_d56d6f5f5  2b58d945f        yes     11     no"
      ]
     },
     "execution_count": 17,
     "metadata": {},
     "output_type": "execute_result"
    }
   ],
   "source": [
    "income_train.select_dtypes('object').head()"
   ]
  },
  {
   "cell_type": "code",
   "execution_count": 18,
   "id": "7d4dddb9",
   "metadata": {
    "scrolled": true
   },
   "outputs": [
    {
     "data": {
      "text/plain": [
       "Series([], dtype: int64)"
      ]
     },
     "execution_count": 18,
     "metadata": {},
     "output_type": "execute_result"
    }
   ],
   "source": [
    "#Find columns with null values\n",
    "null_counts=income_train.select_dtypes('object').isnull().sum()\n",
    "null_counts[null_counts > 0]"
   ]
  },
  {
   "cell_type": "markdown",
   "id": "cee61b9e",
   "metadata": {},
   "source": [
    "### Here we have no null values in integer and object data types but we have in float data types and we also have mixed values in object data types viz dependency, edjefe and edjefa feature columns "
   ]
  },
  {
   "cell_type": "markdown",
   "id": "d1106acd",
   "metadata": {},
   "source": [
    "### Data Cleaning"
   ]
  },
  {
   "cell_type": "markdown",
   "id": "9f8b5ae0",
   "metadata": {},
   "source": [
    "### First handling with mixed values. First fix the column with mixed value:\n",
    "\n",
    "dependency, Dependency rate, calculated = (number of members of the household younger than 19 or older than 64)/(number of member of household between 19 and 64)\n",
    "\n",
    "edjefe= years of education of male head of household, based on the interaction of escolari (years of education), head of household and gender, yes=1 and no=0\n",
    "\n",
    "edjefa: years of education of female head of household, based on the interaction of escolari (years of education), head of household and gender, yes=1 and no=0\n",
    "\n",
    "For these three variables, it seems “yes” = 1 and “no” = 0. We can correct the variables using a mapping and convert to floats."
   ]
  },
  {
   "cell_type": "code",
   "execution_count": 1,
   "id": "7c9ea610",
   "metadata": {},
   "outputs": [
    {
     "ename": "NameError",
     "evalue": "name 'income_train' is not defined",
     "output_type": "error",
     "traceback": [
      "\u001b[1;31m---------------------------------------------------------------------------\u001b[0m",
      "\u001b[1;31mNameError\u001b[0m                                 Traceback (most recent call last)",
      "\u001b[1;32m~\\AppData\\Local\\Temp/ipykernel_3468/2234000323.py\u001b[0m in \u001b[0;36m<module>\u001b[1;34m\u001b[0m\n\u001b[0;32m      8\u001b[0m         \u001b[1;32mreturn\u001b[0m\u001b[1;33m(\u001b[0m\u001b[0mfloat\u001b[0m\u001b[1;33m(\u001b[0m\u001b[0mi\u001b[0m\u001b[1;33m)\u001b[0m\u001b[1;33m)\u001b[0m\u001b[1;31m#mapping={'yes':1,'no':0}\u001b[0m\u001b[1;33m\u001b[0m\u001b[1;33m\u001b[0m\u001b[0m\n\u001b[0;32m      9\u001b[0m \u001b[1;33m\u001b[0m\u001b[0m\n\u001b[1;32m---> 10\u001b[1;33m \u001b[1;32mfor\u001b[0m \u001b[0mdf\u001b[0m \u001b[1;32min\u001b[0m \u001b[1;33m[\u001b[0m\u001b[0mincome_train\u001b[0m\u001b[1;33m,\u001b[0m \u001b[0mincome_test\u001b[0m\u001b[1;33m]\u001b[0m\u001b[1;33m:\u001b[0m\u001b[1;33m\u001b[0m\u001b[1;33m\u001b[0m\u001b[0m\n\u001b[0m\u001b[0;32m     11\u001b[0m     \u001b[0mdf\u001b[0m\u001b[1;33m[\u001b[0m\u001b[1;34m'dependency'\u001b[0m\u001b[1;33m]\u001b[0m \u001b[1;33m=\u001b[0m\u001b[0mdf\u001b[0m\u001b[1;33m[\u001b[0m\u001b[1;34m'dependency'\u001b[0m\u001b[1;33m]\u001b[0m\u001b[1;33m.\u001b[0m\u001b[0mreplace\u001b[0m\u001b[1;33m(\u001b[0m\u001b[0mmap\u001b[0m\u001b[1;33m)\u001b[0m\u001b[1;33m.\u001b[0m\u001b[0mastype\u001b[0m\u001b[1;33m(\u001b[0m\u001b[0mnp\u001b[0m\u001b[1;33m.\u001b[0m\u001b[0mfloat64\u001b[0m\u001b[1;33m)\u001b[0m\u001b[1;33m\u001b[0m\u001b[1;33m\u001b[0m\u001b[0m\n\u001b[0;32m     12\u001b[0m     \u001b[0mdf\u001b[0m\u001b[1;33m[\u001b[0m\u001b[1;34m'edjefe'\u001b[0m\u001b[1;33m]\u001b[0m \u001b[1;33m=\u001b[0m\u001b[0mdf\u001b[0m\u001b[1;33m[\u001b[0m\u001b[1;34m'edjefe'\u001b[0m\u001b[1;33m]\u001b[0m\u001b[1;33m.\u001b[0m\u001b[0mreplace\u001b[0m\u001b[1;33m(\u001b[0m\u001b[0mmap\u001b[0m\u001b[1;33m)\u001b[0m\u001b[1;33m.\u001b[0m\u001b[0mastype\u001b[0m\u001b[1;33m(\u001b[0m\u001b[0mnp\u001b[0m\u001b[1;33m.\u001b[0m\u001b[0mfloat64\u001b[0m\u001b[1;33m)\u001b[0m\u001b[1;33m\u001b[0m\u001b[1;33m\u001b[0m\u001b[0m\n",
      "\u001b[1;31mNameError\u001b[0m: name 'income_train' is not defined"
     ]
    }
   ],
   "source": [
    "mapping={'yes':1,'no':0}\n",
    "\n",
    "for df in [income_train, income_test]:\n",
    "    df['dependency'] =df['dependency'].replace(map).astype(np.float64)\n",
    "    df['edjefe'] =df['edjefe'].replace(map).astype(np.float64)\n",
    "    df['edjefa'] =df['edjefa'].replace(mapping).astype(np.float64)"
   ]
  },
  {
   "cell_type": "code",
   "execution_count": 20,
   "id": "7287fbe5",
   "metadata": {},
   "outputs": [
    {
     "data": {
      "text/html": [
       "<div>\n",
       "<style scoped>\n",
       "    .dataframe tbody tr th:only-of-type {\n",
       "        vertical-align: middle;\n",
       "    }\n",
       "\n",
       "    .dataframe tbody tr th {\n",
       "        vertical-align: top;\n",
       "    }\n",
       "\n",
       "    .dataframe thead th {\n",
       "        text-align: right;\n",
       "    }\n",
       "</style>\n",
       "<table border=\"1\" class=\"dataframe\">\n",
       "  <thead>\n",
       "    <tr style=\"text-align: right;\">\n",
       "      <th></th>\n",
       "      <th>Id</th>\n",
       "      <th>idhogar</th>\n",
       "    </tr>\n",
       "  </thead>\n",
       "  <tbody>\n",
       "    <tr>\n",
       "      <th>0</th>\n",
       "      <td>ID_279628684</td>\n",
       "      <td>21eb7fcc1</td>\n",
       "    </tr>\n",
       "    <tr>\n",
       "      <th>1</th>\n",
       "      <td>ID_f29eb3ddd</td>\n",
       "      <td>0e5d7a658</td>\n",
       "    </tr>\n",
       "    <tr>\n",
       "      <th>2</th>\n",
       "      <td>ID_68de51c94</td>\n",
       "      <td>2c7317ea8</td>\n",
       "    </tr>\n",
       "    <tr>\n",
       "      <th>3</th>\n",
       "      <td>ID_d671db89c</td>\n",
       "      <td>2b58d945f</td>\n",
       "    </tr>\n",
       "    <tr>\n",
       "      <th>4</th>\n",
       "      <td>ID_d56d6f5f5</td>\n",
       "      <td>2b58d945f</td>\n",
       "    </tr>\n",
       "  </tbody>\n",
       "</table>\n",
       "</div>"
      ],
      "text/plain": [
       "             Id    idhogar\n",
       "0  ID_279628684  21eb7fcc1\n",
       "1  ID_f29eb3ddd  0e5d7a658\n",
       "2  ID_68de51c94  2c7317ea8\n",
       "3  ID_d671db89c  2b58d945f\n",
       "4  ID_d56d6f5f5  2b58d945f"
      ]
     },
     "execution_count": 20,
     "metadata": {},
     "output_type": "execute_result"
    }
   ],
   "source": [
    "income_train.select_dtypes('object').head()\n",
    "#income_train.head(2)"
   ]
  },
  {
   "cell_type": "code",
   "execution_count": 21,
   "id": "043bf0e7",
   "metadata": {},
   "outputs": [
    {
     "data": {
      "text/html": [
       "<div>\n",
       "<style scoped>\n",
       "    .dataframe tbody tr th:only-of-type {\n",
       "        vertical-align: middle;\n",
       "    }\n",
       "\n",
       "    .dataframe tbody tr th {\n",
       "        vertical-align: top;\n",
       "    }\n",
       "\n",
       "    .dataframe thead th {\n",
       "        text-align: right;\n",
       "    }\n",
       "</style>\n",
       "<table border=\"1\" class=\"dataframe\">\n",
       "  <thead>\n",
       "    <tr style=\"text-align: right;\">\n",
       "      <th></th>\n",
       "      <th>count</th>\n",
       "      <th>mean</th>\n",
       "      <th>std</th>\n",
       "      <th>min</th>\n",
       "      <th>25%</th>\n",
       "      <th>50%</th>\n",
       "      <th>75%</th>\n",
       "      <th>max</th>\n",
       "    </tr>\n",
       "  </thead>\n",
       "  <tbody>\n",
       "    <tr>\n",
       "      <th>dependency</th>\n",
       "      <td>9557.0</td>\n",
       "      <td>1.149550</td>\n",
       "      <td>1.605993</td>\n",
       "      <td>0.0</td>\n",
       "      <td>0.333333</td>\n",
       "      <td>0.666667</td>\n",
       "      <td>1.333333</td>\n",
       "      <td>8.0</td>\n",
       "    </tr>\n",
       "    <tr>\n",
       "      <th>edjefe</th>\n",
       "      <td>9557.0</td>\n",
       "      <td>5.096788</td>\n",
       "      <td>5.246513</td>\n",
       "      <td>0.0</td>\n",
       "      <td>0.000000</td>\n",
       "      <td>6.000000</td>\n",
       "      <td>9.000000</td>\n",
       "      <td>21.0</td>\n",
       "    </tr>\n",
       "    <tr>\n",
       "      <th>edjefa</th>\n",
       "      <td>9557.0</td>\n",
       "      <td>2.896830</td>\n",
       "      <td>4.612056</td>\n",
       "      <td>0.0</td>\n",
       "      <td>0.000000</td>\n",
       "      <td>0.000000</td>\n",
       "      <td>6.000000</td>\n",
       "      <td>21.0</td>\n",
       "    </tr>\n",
       "  </tbody>\n",
       "</table>\n",
       "</div>"
      ],
      "text/plain": [
       "             count      mean       std  min       25%       50%       75%  \\\n",
       "dependency  9557.0  1.149550  1.605993  0.0  0.333333  0.666667  1.333333   \n",
       "edjefe      9557.0  5.096788  5.246513  0.0  0.000000  6.000000  9.000000   \n",
       "edjefa      9557.0  2.896830  4.612056  0.0  0.000000  0.000000  6.000000   \n",
       "\n",
       "             max  \n",
       "dependency   8.0  \n",
       "edjefe      21.0  \n",
       "edjefa      21.0  "
      ]
     },
     "execution_count": 21,
     "metadata": {},
     "output_type": "execute_result"
    }
   ],
   "source": [
    "income_train[['dependency','edjefe','edjefa']].describe().T"
   ]
  },
  {
   "cell_type": "markdown",
   "id": "8f6e049d",
   "metadata": {},
   "source": [
    "## Fix the columns with null values\n",
    "As per the data from null values for columns, we have following features with null values:\n",
    "\n",
    "v2a1 (total nulls: 6860) : Monthly rent payment\n",
    "\n",
    "v18q1 (total nulls: 7342) : number of tablets household owns\n",
    "\n",
    "rez_esc (total nulls: 7928) : Years behind in school\n",
    "\n",
    "meaneduc (total nulls: 5) : average years of education for adults (18+)\n",
    "\n",
    "SQBmeaned (total nulls: 5) : square of the mean years of education of adults (>=18) in the household\n"
   ]
  },
  {
   "cell_type": "markdown",
   "id": "5b6f506e",
   "metadata": {},
   "source": [
    "### A: Check v2a1 (monthly rent payment) and its relative columns. \n",
    "Columns related to monthly rent payments\n",
    "\n",
    "1- tipovivi1, =1 own and fully paid house\n",
    "\n",
    "2- tipovivi2, \"=1 own, paying in installments\"\n",
    "\n",
    "3- tipovivi3, =1 rented\n",
    "\n",
    "4- tipovivi4, =1 precarious\n",
    "\n",
    "5- tipovivi5, \"=1 other(assigned, borrowed)\""
   ]
  },
  {
   "cell_type": "code",
   "execution_count": 22,
   "id": "ac30d1ea",
   "metadata": {},
   "outputs": [],
   "source": [
    "# Check v2a1 (monthly rent payment) and its relative columns.\n",
    "\n",
    "\n",
    "#income_train[['v2a1']].isnull().sum()\n",
    "data=income_train[income_train['v2a1'].isnull()].head()"
   ]
  },
  {
   "cell_type": "code",
   "execution_count": 23,
   "id": "7667e308",
   "metadata": {},
   "outputs": [
    {
     "data": {
      "text/html": [
       "<div>\n",
       "<style scoped>\n",
       "    .dataframe tbody tr th:only-of-type {\n",
       "        vertical-align: middle;\n",
       "    }\n",
       "\n",
       "    .dataframe tbody tr th {\n",
       "        vertical-align: top;\n",
       "    }\n",
       "\n",
       "    .dataframe thead th {\n",
       "        text-align: right;\n",
       "    }\n",
       "</style>\n",
       "<table border=\"1\" class=\"dataframe\">\n",
       "  <thead>\n",
       "    <tr style=\"text-align: right;\">\n",
       "      <th></th>\n",
       "      <th>tipovivi1</th>\n",
       "      <th>tipovivi2</th>\n",
       "      <th>tipovivi3</th>\n",
       "      <th>tipovivi4</th>\n",
       "      <th>tipovivi5</th>\n",
       "    </tr>\n",
       "  </thead>\n",
       "  <tbody>\n",
       "    <tr>\n",
       "      <th>2</th>\n",
       "      <td>1</td>\n",
       "      <td>0</td>\n",
       "      <td>0</td>\n",
       "      <td>0</td>\n",
       "      <td>0</td>\n",
       "    </tr>\n",
       "    <tr>\n",
       "      <th>13</th>\n",
       "      <td>1</td>\n",
       "      <td>0</td>\n",
       "      <td>0</td>\n",
       "      <td>0</td>\n",
       "      <td>0</td>\n",
       "    </tr>\n",
       "    <tr>\n",
       "      <th>14</th>\n",
       "      <td>1</td>\n",
       "      <td>0</td>\n",
       "      <td>0</td>\n",
       "      <td>0</td>\n",
       "      <td>0</td>\n",
       "    </tr>\n",
       "    <tr>\n",
       "      <th>26</th>\n",
       "      <td>1</td>\n",
       "      <td>0</td>\n",
       "      <td>0</td>\n",
       "      <td>0</td>\n",
       "      <td>0</td>\n",
       "    </tr>\n",
       "    <tr>\n",
       "      <th>32</th>\n",
       "      <td>1</td>\n",
       "      <td>0</td>\n",
       "      <td>0</td>\n",
       "      <td>0</td>\n",
       "      <td>0</td>\n",
       "    </tr>\n",
       "  </tbody>\n",
       "</table>\n",
       "</div>"
      ],
      "text/plain": [
       "    tipovivi1  tipovivi2  tipovivi3  tipovivi4  tipovivi5\n",
       "2           1          0          0          0          0\n",
       "13          1          0          0          0          0\n",
       "14          1          0          0          0          0\n",
       "26          1          0          0          0          0\n",
       "32          1          0          0          0          0"
      ]
     },
     "execution_count": 23,
     "metadata": {},
     "output_type": "execute_result"
    }
   ],
   "source": [
    "income_train_rent_columns=['tipovivi1','tipovivi2','tipovivi3','tipovivi4','tipovivi5']\n",
    "data[income_train_rent_columns]"
   ]
  },
  {
   "cell_type": "markdown",
   "id": "c0044501",
   "metadata": {},
   "source": [
    "### Clearly tipo variable have home either rented or owned "
   ]
  },
  {
   "cell_type": "code",
   "execution_count": 24,
   "id": "515e5af4",
   "metadata": {},
   "outputs": [
    {
     "data": {
      "image/png": "[encoded data removed]",
      "text/plain": [
       "<Figure size 720x360 with 1 Axes>"
      ]
     },
     "metadata": {},
     "output_type": "display_data"
    }
   ],
   "source": [
    "# Here Tipo Variables indicate home ownership\n",
    "own_home = [x for x in income_train if x.startswith('tipo')]\n",
    "\n",
    "\n",
    "# Plot the home ownership variables for home missing rent payments\n",
    "income_train.loc[income_train['v2a1'].isnull(), own_home].sum().plot.bar(figsize = (10, 5),\n",
    "                                                                        color = 'purple',\n",
    "                                                              edgecolor = 'k', linewidth = 2);\n",
    "plt.xticks([0, 1, 2, 3, 4],\n",
    "           ['Owns and fully Paid House', 'Owns and Paying in installments', 'Rented', 'Precarious', 'Other'],\n",
    "          rotation = 20)\n",
    "plt.title('Home Ownership Status for Households with Missing Rent Payments', size = 18);"
   ]
  },
  {
   "cell_type": "markdown",
   "id": "a40a7063",
   "metadata": {},
   "source": [
    "### Clearly there is no monthly rent payment for the house whose payment is fully paid."
   ]
  },
  {
   "cell_type": "markdown",
   "id": "b7bbb736",
   "metadata": {},
   "source": [
    "### Treating missing values in v2a1 column "
   ]
  },
  {
   "cell_type": "code",
   "execution_count": 25,
   "id": "2d6e9649",
   "metadata": {},
   "outputs": [
    {
     "data": {
      "text/html": [
       "<div>\n",
       "<style scoped>\n",
       "    .dataframe tbody tr th:only-of-type {\n",
       "        vertical-align: middle;\n",
       "    }\n",
       "\n",
       "    .dataframe tbody tr th {\n",
       "        vertical-align: top;\n",
       "    }\n",
       "\n",
       "    .dataframe thead th {\n",
       "        text-align: right;\n",
       "    }\n",
       "</style>\n",
       "<table border=\"1\" class=\"dataframe\">\n",
       "  <thead>\n",
       "    <tr style=\"text-align: right;\">\n",
       "      <th></th>\n",
       "      <th>count</th>\n",
       "      <th>mean</th>\n",
       "      <th>std</th>\n",
       "      <th>min</th>\n",
       "      <th>25%</th>\n",
       "      <th>50%</th>\n",
       "      <th>75%</th>\n",
       "      <th>max</th>\n",
       "    </tr>\n",
       "  </thead>\n",
       "  <tbody>\n",
       "    <tr>\n",
       "      <th>v2a1</th>\n",
       "      <td>2697.0</td>\n",
       "      <td>165231.606971</td>\n",
       "      <td>150457.133301</td>\n",
       "      <td>0.0</td>\n",
       "      <td>80000.0</td>\n",
       "      <td>130000.0</td>\n",
       "      <td>200000.0</td>\n",
       "      <td>2353477.0</td>\n",
       "    </tr>\n",
       "  </tbody>\n",
       "</table>\n",
       "</div>"
      ],
      "text/plain": [
       "       count           mean            std  min      25%       50%       75%  \\\n",
       "v2a1  2697.0  165231.606971  150457.133301  0.0  80000.0  130000.0  200000.0   \n",
       "\n",
       "            max  \n",
       "v2a1  2353477.0  "
      ]
     },
     "execution_count": 25,
     "metadata": {},
     "output_type": "execute_result"
    }
   ],
   "source": [
    "income_train[['v2a1']].describe().T"
   ]
  },
  {
   "cell_type": "code",
   "execution_count": 26,
   "id": "6d317530",
   "metadata": {},
   "outputs": [
    {
     "data": {
      "text/plain": [
       "v2a1    0\n",
       "dtype: int64"
      ]
     },
     "execution_count": 26,
     "metadata": {},
     "output_type": "execute_result"
    }
   ],
   "source": [
    "# Add 0 for all null values in v2a1 because minimum value for v2a1 is 0 and maximum value is 2353477\n",
    "for df in [income_train, income_test]:\n",
    "    df['v2a1'].fillna(value=0, inplace=True)\n",
    "\n",
    "income_train[['v2a1']].isnull().sum()"
   ]
  },
  {
   "cell_type": "markdown",
   "id": "bcd3b5ca",
   "metadata": {},
   "source": [
    "### B: Check v18q1 (total nulls: 7342) : number of tablets household owns"
   ]
  },
  {
   "cell_type": "markdown",
   "id": "24f48767",
   "metadata": {},
   "source": [
    "Columns related to number of tablets household owns\n",
    "\n",
    "v18q: Owns a tablet\n",
    "\n",
    "But here owning a tablet is related to the household, so checking the rows at household level"
   ]
  },
  {
   "cell_type": "code",
   "execution_count": 27,
   "id": "a0ae93d6",
   "metadata": {
    "scrolled": true
   },
   "outputs": [
    {
     "data": {
      "text/html": [
       "<div>\n",
       "<style scoped>\n",
       "    .dataframe tbody tr th:only-of-type {\n",
       "        vertical-align: middle;\n",
       "    }\n",
       "\n",
       "    .dataframe tbody tr th {\n",
       "        vertical-align: top;\n",
       "    }\n",
       "\n",
       "    .dataframe thead th {\n",
       "        text-align: right;\n",
       "    }\n",
       "</style>\n",
       "<table border=\"1\" class=\"dataframe\">\n",
       "  <thead>\n",
       "    <tr style=\"text-align: right;\">\n",
       "      <th></th>\n",
       "      <th>v18q</th>\n",
       "      <th>v18q1</th>\n",
       "    </tr>\n",
       "  </thead>\n",
       "  <tbody>\n",
       "    <tr>\n",
       "      <th>0</th>\n",
       "      <td>0</td>\n",
       "      <td>2318</td>\n",
       "    </tr>\n",
       "    <tr>\n",
       "      <th>1</th>\n",
       "      <td>1</td>\n",
       "      <td>0</td>\n",
       "    </tr>\n",
       "  </tbody>\n",
       "</table>\n",
       "</div>"
      ],
      "text/plain": [
       "   v18q  v18q1\n",
       "0     0   2318\n",
       "1     1      0"
      ]
     },
     "execution_count": 27,
     "metadata": {},
     "output_type": "execute_result"
    }
   ],
   "source": [
    "# Filtering the data to household head [parentesco1=1 : Household head]\n",
    "income_train_heads = income_train.loc[income_train['parentesco1'] == 1].copy()\n",
    "# Grouping them into tablet owns and checking for tablet household owns\n",
    "income_train_heads.groupby('v18q')['v18q1'].apply(lambda x: x.isnull().sum()).reset_index()"
   ]
  },
  {
   "cell_type": "code",
   "execution_count": 28,
   "id": "f2a14d25",
   "metadata": {},
   "outputs": [
    {
     "data": {
      "text/plain": [
       "1.0    1586\n",
       "2.0     444\n",
       "3.0     129\n",
       "4.0      37\n",
       "5.0      13\n",
       "6.0       6\n",
       "Name: v18q1, dtype: int64"
      ]
     },
     "execution_count": 28,
     "metadata": {},
     "output_type": "execute_result"
    }
   ],
   "source": [
    "income_train['v18q1'].value_counts()"
   ]
  },
  {
   "cell_type": "code",
   "execution_count": 29,
   "id": "3329a93c",
   "metadata": {
    "scrolled": true
   },
   "outputs": [
    {
     "data": {
      "image/png": "[encoded data removed]",
      "text/plain": [
       "<Figure size 720x360 with 1 Axes>"
      ]
     },
     "metadata": {},
     "output_type": "display_data"
    }
   ],
   "source": [
    "income_train['v18q1'].value_counts().sort_index().plot.bar(color = 'orange', figsize=(10,5),\n",
    "                                             edgecolor = 'k',\n",
    "                                             linewidth = 2)\n",
    "plt.xlabel('v18q1'); plt.title('v18q1(number of tablets household owns) Value Counts'); plt.ylabel('Count')\n",
    "plt.show();\n"
   ]
  },
  {
   "cell_type": "markdown",
   "id": "51bde549",
   "metadata": {},
   "source": [
    "### Clearly when owns a tablet column is 1, there is zero number of tablets household owns  "
   ]
  },
  {
   "cell_type": "code",
   "execution_count": 30,
   "id": "c3a2f2b4",
   "metadata": {},
   "outputs": [
    {
     "data": {
      "text/html": [
       "<div>\n",
       "<style scoped>\n",
       "    .dataframe tbody tr th:only-of-type {\n",
       "        vertical-align: middle;\n",
       "    }\n",
       "\n",
       "    .dataframe tbody tr th {\n",
       "        vertical-align: top;\n",
       "    }\n",
       "\n",
       "    .dataframe thead th {\n",
       "        text-align: right;\n",
       "    }\n",
       "</style>\n",
       "<table border=\"1\" class=\"dataframe\">\n",
       "  <thead>\n",
       "    <tr style=\"text-align: right;\">\n",
       "      <th></th>\n",
       "      <th>count</th>\n",
       "      <th>mean</th>\n",
       "      <th>std</th>\n",
       "      <th>min</th>\n",
       "      <th>25%</th>\n",
       "      <th>50%</th>\n",
       "      <th>75%</th>\n",
       "      <th>max</th>\n",
       "    </tr>\n",
       "  </thead>\n",
       "  <tbody>\n",
       "    <tr>\n",
       "      <th>v18q1</th>\n",
       "      <td>2215.0</td>\n",
       "      <td>1.404063</td>\n",
       "      <td>0.763131</td>\n",
       "      <td>1.0</td>\n",
       "      <td>1.0</td>\n",
       "      <td>1.0</td>\n",
       "      <td>2.0</td>\n",
       "      <td>6.0</td>\n",
       "    </tr>\n",
       "  </tbody>\n",
       "</table>\n",
       "</div>"
      ],
      "text/plain": [
       "        count      mean       std  min  25%  50%  75%  max\n",
       "v18q1  2215.0  1.404063  0.763131  1.0  1.0  1.0  2.0  6.0"
      ]
     },
     "execution_count": 30,
     "metadata": {},
     "output_type": "execute_result"
    }
   ],
   "source": [
    "income_train[['v18q1']].describe().T"
   ]
  },
  {
   "cell_type": "markdown",
   "id": "71955d4f",
   "metadata": {},
   "source": [
    "###  Treating missing values in v18q1 column"
   ]
  },
  {
   "cell_type": "code",
   "execution_count": 31,
   "id": "4f3e6407",
   "metadata": {},
   "outputs": [
    {
     "data": {
      "text/plain": [
       "v18q1    0\n",
       "dtype: int64"
      ]
     },
     "execution_count": 31,
     "metadata": {},
     "output_type": "execute_result"
    }
   ],
   "source": [
    "# Add 1 for all null values in v2a1 because minimum value for v2a1 is 1 and maximum value is 6\n",
    "for df in [income_train, income_test]:\n",
    "    df['v18q1'].fillna(value=1, inplace=True)\n",
    "\n",
    "income_train[['v18q1']].isnull().sum()"
   ]
  },
  {
   "cell_type": "markdown",
   "id": "4ca4fd8b",
   "metadata": {},
   "source": [
    "### C: Check rez_esc (total nulls: 7928) : Years behind in school"
   ]
  },
  {
   "cell_type": "markdown",
   "id": "dda687ba",
   "metadata": {},
   "source": [
    "Columns related to Years behind in school\n",
    "\n",
    "age: Age in Years"
   ]
  },
  {
   "cell_type": "code",
   "execution_count": 32,
   "id": "a01a6fe6",
   "metadata": {},
   "outputs": [
    {
     "data": {
      "text/plain": [
       "count    7928.000000\n",
       "mean       38.833249\n",
       "std        20.989486\n",
       "min         0.000000\n",
       "25%        24.000000\n",
       "50%        38.000000\n",
       "75%        54.000000\n",
       "max        97.000000\n",
       "Name: age, dtype: float64"
      ]
     },
     "execution_count": 32,
     "metadata": {},
     "output_type": "execute_result"
    }
   ],
   "source": [
    "# Check null values in rez_esc(Years behind in school) and describe age\n",
    "income_train.loc[income_train['rez_esc'].isnull()]['age'].describe()"
   ]
  },
  {
   "cell_type": "code",
   "execution_count": 33,
   "id": "660cea03",
   "metadata": {},
   "outputs": [
    {
     "data": {
      "text/plain": [
       "count    1629.000000\n",
       "mean       12.258441\n",
       "std         3.218325\n",
       "min         7.000000\n",
       "25%         9.000000\n",
       "50%        12.000000\n",
       "75%        15.000000\n",
       "max        17.000000\n",
       "Name: age, dtype: float64"
      ]
     },
     "execution_count": 33,
     "metadata": {},
     "output_type": "execute_result"
    }
   ],
   "source": [
    "# Check non- null values in rez_esc(Years behind in school) and describe age\n",
    "income_train.loc[income_train['rez_esc'].notnull()]['age'].describe()"
   ]
  },
  {
   "cell_type": "markdown",
   "id": "adbee84c",
   "metadata": {},
   "source": [
    "#### Clearly here when the age is in between 7 and 17, then we have some value in rez_esc(years behind in school)"
   ]
  },
  {
   "cell_type": "code",
   "execution_count": 34,
   "id": "560a1b8b",
   "metadata": {},
   "outputs": [
    {
     "data": {
      "text/plain": [
       "count     1.0\n",
       "mean     10.0\n",
       "std       NaN\n",
       "min      10.0\n",
       "25%      10.0\n",
       "50%      10.0\n",
       "75%      10.0\n",
       "max      10.0\n",
       "Name: age, dtype: float64"
      ]
     },
     "execution_count": 34,
     "metadata": {},
     "output_type": "execute_result"
    }
   ],
   "source": [
    "income_train.loc[(income_train['rez_esc'].isnull() & \n",
    "                     ((income_train['age'] > 7) & (income_train['age'] < 17)))]['age'].describe()\n",
    "#income_train.loc[(income_train['rez_esc'].notnull() & \n",
    "                     #((income_train['age'] > 0) & (income_train['age'] < 97)))]['age'].describe()"
   ]
  },
  {
   "cell_type": "markdown",
   "id": "65e227f6",
   "metadata": {},
   "source": [
    "#### Clearly there is only one person whose age is 10 and who is 'behind in school' "
   ]
  },
  {
   "cell_type": "code",
   "execution_count": 35,
   "id": "365d0eff",
   "metadata": {},
   "outputs": [
    {
     "data": {
      "text/html": [
       "<div>\n",
       "<style scoped>\n",
       "    .dataframe tbody tr th:only-of-type {\n",
       "        vertical-align: middle;\n",
       "    }\n",
       "\n",
       "    .dataframe tbody tr th {\n",
       "        vertical-align: top;\n",
       "    }\n",
       "\n",
       "    .dataframe thead th {\n",
       "        text-align: right;\n",
       "    }\n",
       "</style>\n",
       "<table border=\"1\" class=\"dataframe\">\n",
       "  <thead>\n",
       "    <tr style=\"text-align: right;\">\n",
       "      <th></th>\n",
       "      <th>Id</th>\n",
       "      <th>v2a1</th>\n",
       "      <th>hacdor</th>\n",
       "      <th>rooms</th>\n",
       "      <th>hacapo</th>\n",
       "      <th>v14a</th>\n",
       "      <th>refrig</th>\n",
       "      <th>v18q</th>\n",
       "      <th>v18q1</th>\n",
       "      <th>r4h1</th>\n",
       "      <th>...</th>\n",
       "      <th>SQBescolari</th>\n",
       "      <th>SQBage</th>\n",
       "      <th>SQBhogar_total</th>\n",
       "      <th>SQBedjefe</th>\n",
       "      <th>SQBhogar_nin</th>\n",
       "      <th>SQBovercrowding</th>\n",
       "      <th>SQBdependency</th>\n",
       "      <th>SQBmeaned</th>\n",
       "      <th>agesq</th>\n",
       "      <th>Target</th>\n",
       "    </tr>\n",
       "  </thead>\n",
       "  <tbody>\n",
       "    <tr>\n",
       "      <th>2514</th>\n",
       "      <td>ID_f012e4242</td>\n",
       "      <td>160000.0</td>\n",
       "      <td>0</td>\n",
       "      <td>6</td>\n",
       "      <td>0</td>\n",
       "      <td>1</td>\n",
       "      <td>1</td>\n",
       "      <td>1</td>\n",
       "      <td>1.0</td>\n",
       "      <td>0</td>\n",
       "      <td>...</td>\n",
       "      <td>0</td>\n",
       "      <td>100</td>\n",
       "      <td>9</td>\n",
       "      <td>121</td>\n",
       "      <td>1</td>\n",
       "      <td>2.25</td>\n",
       "      <td>0.25</td>\n",
       "      <td>182.25</td>\n",
       "      <td>100</td>\n",
       "      <td>4</td>\n",
       "    </tr>\n",
       "  </tbody>\n",
       "</table>\n",
       "<p>1 rows × 143 columns</p>\n",
       "</div>"
      ],
      "text/plain": [
       "                Id      v2a1  hacdor  rooms  hacapo  v14a  refrig  v18q  \\\n",
       "2514  ID_f012e4242  160000.0       0      6       0     1       1     1   \n",
       "\n",
       "      v18q1  r4h1  ...  SQBescolari  SQBage  SQBhogar_total  SQBedjefe  \\\n",
       "2514    1.0     0  ...            0     100               9        121   \n",
       "\n",
       "      SQBhogar_nin  SQBovercrowding  SQBdependency  SQBmeaned  agesq  Target  \n",
       "2514             1             2.25           0.25     182.25    100       4  \n",
       "\n",
       "[1 rows x 143 columns]"
      ]
     },
     "execution_count": 35,
     "metadata": {},
     "output_type": "execute_result"
    }
   ],
   "source": [
    "income_train[(income_train['age'] ==10) & income_train['rez_esc'].isnull()].head()"
   ]
  },
  {
   "cell_type": "markdown",
   "id": "99cfca93",
   "metadata": {},
   "source": [
    "#### Clearly that one person ID is ID_f012e4242 "
   ]
  },
  {
   "cell_type": "markdown",
   "id": "938eb044",
   "metadata": {},
   "source": [
    "### Treating missing values in rez_esc column "
   ]
  },
  {
   "cell_type": "code",
   "execution_count": 36,
   "id": "f41000f8",
   "metadata": {},
   "outputs": [
    {
     "data": {
      "text/plain": [
       "count    7928.000000\n",
       "mean       38.833249\n",
       "std        20.989486\n",
       "min         0.000000\n",
       "25%        24.000000\n",
       "50%        38.000000\n",
       "75%        54.000000\n",
       "max        97.000000\n",
       "Name: age, dtype: float64"
      ]
     },
     "execution_count": 36,
     "metadata": {},
     "output_type": "execute_result"
    }
   ],
   "source": [
    "# Check null values in rez_esc(Years behind in school) and age\n",
    "income_train.loc[income_train['rez_esc'].isnull()]['age'].describe()"
   ]
  },
  {
   "cell_type": "code",
   "execution_count": 37,
   "id": "948d04fb",
   "metadata": {},
   "outputs": [
    {
     "data": {
      "text/plain": [
       "rez_esc    0\n",
       "dtype: int64"
      ]
     },
     "execution_count": 37,
     "metadata": {},
     "output_type": "execute_result"
    }
   ],
   "source": [
    "# Add 0 for all null values in rez_esc because minimum value for age is 0 and maximum value is 97 \n",
    "for df in [income_train, income_test]:\n",
    "    df['rez_esc'].fillna(value=0, inplace=True)\n",
    "\n",
    "income_train[['rez_esc']].isnull().sum()"
   ]
  },
  {
   "cell_type": "markdown",
   "id": "eaee131e",
   "metadata": {},
   "source": [
    "### D: Check meaneduc (total nulls: 5) : average years of education for adults (18+)\n",
    "\n",
    "Columns related to average years of education for adults (18+)\n",
    "\n",
    "edjefe: years of education of male head of household, based on the interaction of escolari (years of education),\n",
    "head of household and gender, yes=1 and no=0\n",
    "\n",
    "edjefa: years of education of female head of household, based on the interaction of escolari (years of education),head of household and gender, yes=1 and no=0\n",
    "\n",
    "instlevel1: =1 no level of education\n",
    "\n",
    "instlevel2: =1 incomplete primary"
   ]
  },
  {
   "cell_type": "code",
   "execution_count": 38,
   "id": "99a1f07f",
   "metadata": {},
   "outputs": [
    {
     "data": {
      "text/html": [
       "<div>\n",
       "<style scoped>\n",
       "    .dataframe tbody tr th:only-of-type {\n",
       "        vertical-align: middle;\n",
       "    }\n",
       "\n",
       "    .dataframe tbody tr th {\n",
       "        vertical-align: top;\n",
       "    }\n",
       "\n",
       "    .dataframe thead th {\n",
       "        text-align: right;\n",
       "    }\n",
       "</style>\n",
       "<table border=\"1\" class=\"dataframe\">\n",
       "  <thead>\n",
       "    <tr style=\"text-align: right;\">\n",
       "      <th></th>\n",
       "      <th>Id</th>\n",
       "      <th>v2a1</th>\n",
       "      <th>hacdor</th>\n",
       "      <th>rooms</th>\n",
       "      <th>hacapo</th>\n",
       "      <th>v14a</th>\n",
       "      <th>refrig</th>\n",
       "      <th>v18q</th>\n",
       "      <th>v18q1</th>\n",
       "      <th>r4h1</th>\n",
       "      <th>...</th>\n",
       "      <th>SQBescolari</th>\n",
       "      <th>SQBage</th>\n",
       "      <th>SQBhogar_total</th>\n",
       "      <th>SQBedjefe</th>\n",
       "      <th>SQBhogar_nin</th>\n",
       "      <th>SQBovercrowding</th>\n",
       "      <th>SQBdependency</th>\n",
       "      <th>SQBmeaned</th>\n",
       "      <th>agesq</th>\n",
       "      <th>Target</th>\n",
       "    </tr>\n",
       "  </thead>\n",
       "  <tbody>\n",
       "    <tr>\n",
       "      <th>1291</th>\n",
       "      <td>ID_bd8e11b0f</td>\n",
       "      <td>0.0</td>\n",
       "      <td>0</td>\n",
       "      <td>7</td>\n",
       "      <td>0</td>\n",
       "      <td>1</td>\n",
       "      <td>1</td>\n",
       "      <td>0</td>\n",
       "      <td>1.0</td>\n",
       "      <td>0</td>\n",
       "      <td>...</td>\n",
       "      <td>100</td>\n",
       "      <td>324</td>\n",
       "      <td>1</td>\n",
       "      <td>0</td>\n",
       "      <td>1</td>\n",
       "      <td>0.04</td>\n",
       "      <td>64.0</td>\n",
       "      <td>NaN</td>\n",
       "      <td>324</td>\n",
       "      <td>4</td>\n",
       "    </tr>\n",
       "    <tr>\n",
       "      <th>1840</th>\n",
       "      <td>ID_46ff87316</td>\n",
       "      <td>110000.0</td>\n",
       "      <td>0</td>\n",
       "      <td>1</td>\n",
       "      <td>0</td>\n",
       "      <td>1</td>\n",
       "      <td>1</td>\n",
       "      <td>0</td>\n",
       "      <td>1.0</td>\n",
       "      <td>0</td>\n",
       "      <td>...</td>\n",
       "      <td>36</td>\n",
       "      <td>324</td>\n",
       "      <td>4</td>\n",
       "      <td>16</td>\n",
       "      <td>4</td>\n",
       "      <td>4.00</td>\n",
       "      <td>64.0</td>\n",
       "      <td>NaN</td>\n",
       "      <td>324</td>\n",
       "      <td>4</td>\n",
       "    </tr>\n",
       "    <tr>\n",
       "      <th>1841</th>\n",
       "      <td>ID_69f50bf3e</td>\n",
       "      <td>110000.0</td>\n",
       "      <td>0</td>\n",
       "      <td>1</td>\n",
       "      <td>0</td>\n",
       "      <td>1</td>\n",
       "      <td>1</td>\n",
       "      <td>0</td>\n",
       "      <td>1.0</td>\n",
       "      <td>0</td>\n",
       "      <td>...</td>\n",
       "      <td>16</td>\n",
       "      <td>324</td>\n",
       "      <td>4</td>\n",
       "      <td>16</td>\n",
       "      <td>4</td>\n",
       "      <td>4.00</td>\n",
       "      <td>64.0</td>\n",
       "      <td>NaN</td>\n",
       "      <td>324</td>\n",
       "      <td>4</td>\n",
       "    </tr>\n",
       "    <tr>\n",
       "      <th>2049</th>\n",
       "      <td>ID_db3168f9f</td>\n",
       "      <td>180000.0</td>\n",
       "      <td>0</td>\n",
       "      <td>3</td>\n",
       "      <td>0</td>\n",
       "      <td>1</td>\n",
       "      <td>1</td>\n",
       "      <td>0</td>\n",
       "      <td>1.0</td>\n",
       "      <td>0</td>\n",
       "      <td>...</td>\n",
       "      <td>144</td>\n",
       "      <td>361</td>\n",
       "      <td>4</td>\n",
       "      <td>144</td>\n",
       "      <td>4</td>\n",
       "      <td>1.00</td>\n",
       "      <td>64.0</td>\n",
       "      <td>NaN</td>\n",
       "      <td>361</td>\n",
       "      <td>4</td>\n",
       "    </tr>\n",
       "    <tr>\n",
       "      <th>2050</th>\n",
       "      <td>ID_2a7615902</td>\n",
       "      <td>180000.0</td>\n",
       "      <td>0</td>\n",
       "      <td>3</td>\n",
       "      <td>0</td>\n",
       "      <td>1</td>\n",
       "      <td>1</td>\n",
       "      <td>0</td>\n",
       "      <td>1.0</td>\n",
       "      <td>0</td>\n",
       "      <td>...</td>\n",
       "      <td>144</td>\n",
       "      <td>361</td>\n",
       "      <td>4</td>\n",
       "      <td>144</td>\n",
       "      <td>4</td>\n",
       "      <td>1.00</td>\n",
       "      <td>64.0</td>\n",
       "      <td>NaN</td>\n",
       "      <td>361</td>\n",
       "      <td>4</td>\n",
       "    </tr>\n",
       "  </tbody>\n",
       "</table>\n",
       "<p>5 rows × 143 columns</p>\n",
       "</div>"
      ],
      "text/plain": [
       "                Id      v2a1  hacdor  rooms  hacapo  v14a  refrig  v18q  \\\n",
       "1291  ID_bd8e11b0f       0.0       0      7       0     1       1     0   \n",
       "1840  ID_46ff87316  110000.0       0      1       0     1       1     0   \n",
       "1841  ID_69f50bf3e  110000.0       0      1       0     1       1     0   \n",
       "2049  ID_db3168f9f  180000.0       0      3       0     1       1     0   \n",
       "2050  ID_2a7615902  180000.0       0      3       0     1       1     0   \n",
       "\n",
       "      v18q1  r4h1  ...  SQBescolari  SQBage  SQBhogar_total  SQBedjefe  \\\n",
       "1291    1.0     0  ...          100     324               1          0   \n",
       "1840    1.0     0  ...           36     324               4         16   \n",
       "1841    1.0     0  ...           16     324               4         16   \n",
       "2049    1.0     0  ...          144     361               4        144   \n",
       "2050    1.0     0  ...          144     361               4        144   \n",
       "\n",
       "      SQBhogar_nin  SQBovercrowding  SQBdependency  SQBmeaned  agesq  Target  \n",
       "1291             1             0.04           64.0        NaN    324       4  \n",
       "1840             4             4.00           64.0        NaN    324       4  \n",
       "1841             4             4.00           64.0        NaN    324       4  \n",
       "2049             4             1.00           64.0        NaN    361       4  \n",
       "2050             4             1.00           64.0        NaN    361       4  \n",
       "\n",
       "[5 rows x 143 columns]"
      ]
     },
     "execution_count": 38,
     "metadata": {},
     "output_type": "execute_result"
    }
   ],
   "source": [
    "# Check null values in meaneduc(average years of education for adults (18+))\n",
    "income_train[income_train['meaneduc'].isnull()].head()"
   ]
  },
  {
   "cell_type": "code",
   "execution_count": 39,
   "id": "261b6be3",
   "metadata": {},
   "outputs": [
    {
     "data": {
      "text/html": [
       "<div>\n",
       "<style scoped>\n",
       "    .dataframe tbody tr th:only-of-type {\n",
       "        vertical-align: middle;\n",
       "    }\n",
       "\n",
       "    .dataframe tbody tr th {\n",
       "        vertical-align: top;\n",
       "    }\n",
       "\n",
       "    .dataframe thead th {\n",
       "        text-align: right;\n",
       "    }\n",
       "</style>\n",
       "<table border=\"1\" class=\"dataframe\">\n",
       "  <thead>\n",
       "    <tr style=\"text-align: right;\">\n",
       "      <th></th>\n",
       "      <th>edjefe</th>\n",
       "      <th>edjefa</th>\n",
       "      <th>instlevel1</th>\n",
       "      <th>instlevel2</th>\n",
       "    </tr>\n",
       "  </thead>\n",
       "  <tbody>\n",
       "    <tr>\n",
       "      <th>count</th>\n",
       "      <td>9557.000000</td>\n",
       "      <td>9557.000000</td>\n",
       "      <td>9557.000000</td>\n",
       "      <td>9557.000000</td>\n",
       "    </tr>\n",
       "    <tr>\n",
       "      <th>mean</th>\n",
       "      <td>5.096788</td>\n",
       "      <td>2.896830</td>\n",
       "      <td>0.134666</td>\n",
       "      <td>0.170556</td>\n",
       "    </tr>\n",
       "    <tr>\n",
       "      <th>std</th>\n",
       "      <td>5.246513</td>\n",
       "      <td>4.612056</td>\n",
       "      <td>0.341384</td>\n",
       "      <td>0.376140</td>\n",
       "    </tr>\n",
       "    <tr>\n",
       "      <th>min</th>\n",
       "      <td>0.000000</td>\n",
       "      <td>0.000000</td>\n",
       "      <td>0.000000</td>\n",
       "      <td>0.000000</td>\n",
       "    </tr>\n",
       "    <tr>\n",
       "      <th>25%</th>\n",
       "      <td>0.000000</td>\n",
       "      <td>0.000000</td>\n",
       "      <td>0.000000</td>\n",
       "      <td>0.000000</td>\n",
       "    </tr>\n",
       "    <tr>\n",
       "      <th>50%</th>\n",
       "      <td>6.000000</td>\n",
       "      <td>0.000000</td>\n",
       "      <td>0.000000</td>\n",
       "      <td>0.000000</td>\n",
       "    </tr>\n",
       "    <tr>\n",
       "      <th>75%</th>\n",
       "      <td>9.000000</td>\n",
       "      <td>6.000000</td>\n",
       "      <td>0.000000</td>\n",
       "      <td>0.000000</td>\n",
       "    </tr>\n",
       "    <tr>\n",
       "      <th>max</th>\n",
       "      <td>21.000000</td>\n",
       "      <td>21.000000</td>\n",
       "      <td>1.000000</td>\n",
       "      <td>1.000000</td>\n",
       "    </tr>\n",
       "  </tbody>\n",
       "</table>\n",
       "</div>"
      ],
      "text/plain": [
       "            edjefe       edjefa   instlevel1   instlevel2\n",
       "count  9557.000000  9557.000000  9557.000000  9557.000000\n",
       "mean      5.096788     2.896830     0.134666     0.170556\n",
       "std       5.246513     4.612056     0.341384     0.376140\n",
       "min       0.000000     0.000000     0.000000     0.000000\n",
       "25%       0.000000     0.000000     0.000000     0.000000\n",
       "50%       6.000000     0.000000     0.000000     0.000000\n",
       "75%       9.000000     6.000000     0.000000     0.000000\n",
       "max      21.000000    21.000000     1.000000     1.000000"
      ]
     },
     "execution_count": 39,
     "metadata": {},
     "output_type": "execute_result"
    }
   ],
   "source": [
    "income_train[['edjefe','edjefa','instlevel1','instlevel2']].describe()"
   ]
  },
  {
   "cell_type": "code",
   "execution_count": 40,
   "id": "6435f19a",
   "metadata": {
    "scrolled": true
   },
   "outputs": [
    {
     "data": {
      "text/html": [
       "<div>\n",
       "<style scoped>\n",
       "    .dataframe tbody tr th:only-of-type {\n",
       "        vertical-align: middle;\n",
       "    }\n",
       "\n",
       "    .dataframe tbody tr th {\n",
       "        vertical-align: top;\n",
       "    }\n",
       "\n",
       "    .dataframe thead th {\n",
       "        text-align: right;\n",
       "    }\n",
       "</style>\n",
       "<table border=\"1\" class=\"dataframe\">\n",
       "  <thead>\n",
       "    <tr style=\"text-align: right;\">\n",
       "      <th></th>\n",
       "      <th>edjefe</th>\n",
       "      <th>edjefa</th>\n",
       "      <th>instlevel1</th>\n",
       "      <th>instlevel2</th>\n",
       "    </tr>\n",
       "  </thead>\n",
       "  <tbody>\n",
       "    <tr>\n",
       "      <th>count</th>\n",
       "      <td>0.0</td>\n",
       "      <td>0.0</td>\n",
       "      <td>0.0</td>\n",
       "      <td>0.0</td>\n",
       "    </tr>\n",
       "    <tr>\n",
       "      <th>mean</th>\n",
       "      <td>NaN</td>\n",
       "      <td>NaN</td>\n",
       "      <td>NaN</td>\n",
       "      <td>NaN</td>\n",
       "    </tr>\n",
       "    <tr>\n",
       "      <th>std</th>\n",
       "      <td>NaN</td>\n",
       "      <td>NaN</td>\n",
       "      <td>NaN</td>\n",
       "      <td>NaN</td>\n",
       "    </tr>\n",
       "    <tr>\n",
       "      <th>min</th>\n",
       "      <td>NaN</td>\n",
       "      <td>NaN</td>\n",
       "      <td>NaN</td>\n",
       "      <td>NaN</td>\n",
       "    </tr>\n",
       "    <tr>\n",
       "      <th>25%</th>\n",
       "      <td>NaN</td>\n",
       "      <td>NaN</td>\n",
       "      <td>NaN</td>\n",
       "      <td>NaN</td>\n",
       "    </tr>\n",
       "    <tr>\n",
       "      <th>50%</th>\n",
       "      <td>NaN</td>\n",
       "      <td>NaN</td>\n",
       "      <td>NaN</td>\n",
       "      <td>NaN</td>\n",
       "    </tr>\n",
       "    <tr>\n",
       "      <th>75%</th>\n",
       "      <td>NaN</td>\n",
       "      <td>NaN</td>\n",
       "      <td>NaN</td>\n",
       "      <td>NaN</td>\n",
       "    </tr>\n",
       "    <tr>\n",
       "      <th>max</th>\n",
       "      <td>NaN</td>\n",
       "      <td>NaN</td>\n",
       "      <td>NaN</td>\n",
       "      <td>NaN</td>\n",
       "    </tr>\n",
       "  </tbody>\n",
       "</table>\n",
       "</div>"
      ],
      "text/plain": [
       "       edjefe  edjefa  instlevel1  instlevel2\n",
       "count     0.0     0.0         0.0         0.0\n",
       "mean      NaN     NaN         NaN         NaN\n",
       "std       NaN     NaN         NaN         NaN\n",
       "min       NaN     NaN         NaN         NaN\n",
       "25%       NaN     NaN         NaN         NaN\n",
       "50%       NaN     NaN         NaN         NaN\n",
       "75%       NaN     NaN         NaN         NaN\n",
       "max       NaN     NaN         NaN         NaN"
      ]
     },
     "execution_count": 40,
     "metadata": {},
     "output_type": "execute_result"
    }
   ],
   "source": [
    "income_train_edu_columns=['edjefe','edjefa','instlevel1','instlevel2']\n",
    "data[income_train_edu_columns][data[income_train_edu_columns]['instlevel1']>0].describe()"
   ]
  },
  {
   "cell_type": "markdown",
   "id": "fe76776c",
   "metadata": {},
   "source": [
    "#### Clearly here  meaneduc(average years of education for adults (18+)) is null when instlevel1=1( no level of education) is zero"
   ]
  },
  {
   "cell_type": "markdown",
   "id": "f0e28255",
   "metadata": {},
   "source": [
    "### Treating missing values in meaneduc(average years of education for adults (18+)) column "
   ]
  },
  {
   "cell_type": "code",
   "execution_count": 41,
   "id": "41c63fa3",
   "metadata": {},
   "outputs": [
    {
     "data": {
      "text/plain": [
       "meaneduc    0\n",
       "dtype: int64"
      ]
     },
     "execution_count": 41,
     "metadata": {},
     "output_type": "execute_result"
    }
   ],
   "source": [
    "#Add 0 for all null values in meaneduc because minimum value is 0 and maximum value is 21 \n",
    "for df in [income_train, income_test]:\n",
    "    df['meaneduc'].fillna(value=0, inplace=True)\n",
    "income_train[['meaneduc']].isnull().sum()"
   ]
  },
  {
   "cell_type": "markdown",
   "id": "8cf8be7c",
   "metadata": {},
   "source": [
    "###  E: Check SQBmeaned (total nulls: 5) : square of the mean years of education of adults (>=18) in the household\n",
    "\n",
    "Columns related to square of the mean years of education of adults (>=18) in the household\n",
    "\n",
    "edjefe: years of education of male head of household, based on the interaction of escolari (years of education), head of household and gender, yes=1 and no=0\n",
    "\n",
    "edjefa: years of education of female head of household, based on the interaction of escolari (years of education),head of household and gender, yes=1 and no=0\n",
    "\n",
    "instlevel1: =1 no level of education\n",
    "\n",
    "instlevel2: =1 incomplete primary"
   ]
  },
  {
   "cell_type": "code",
   "execution_count": 42,
   "id": "2b0770e7",
   "metadata": {},
   "outputs": [
    {
     "data": {
      "text/html": [
       "<div>\n",
       "<style scoped>\n",
       "    .dataframe tbody tr th:only-of-type {\n",
       "        vertical-align: middle;\n",
       "    }\n",
       "\n",
       "    .dataframe tbody tr th {\n",
       "        vertical-align: top;\n",
       "    }\n",
       "\n",
       "    .dataframe thead th {\n",
       "        text-align: right;\n",
       "    }\n",
       "</style>\n",
       "<table border=\"1\" class=\"dataframe\">\n",
       "  <thead>\n",
       "    <tr style=\"text-align: right;\">\n",
       "      <th></th>\n",
       "      <th>Id</th>\n",
       "      <th>v2a1</th>\n",
       "      <th>hacdor</th>\n",
       "      <th>rooms</th>\n",
       "      <th>hacapo</th>\n",
       "      <th>v14a</th>\n",
       "      <th>refrig</th>\n",
       "      <th>v18q</th>\n",
       "      <th>v18q1</th>\n",
       "      <th>r4h1</th>\n",
       "      <th>...</th>\n",
       "      <th>SQBescolari</th>\n",
       "      <th>SQBage</th>\n",
       "      <th>SQBhogar_total</th>\n",
       "      <th>SQBedjefe</th>\n",
       "      <th>SQBhogar_nin</th>\n",
       "      <th>SQBovercrowding</th>\n",
       "      <th>SQBdependency</th>\n",
       "      <th>SQBmeaned</th>\n",
       "      <th>agesq</th>\n",
       "      <th>Target</th>\n",
       "    </tr>\n",
       "  </thead>\n",
       "  <tbody>\n",
       "    <tr>\n",
       "      <th>1291</th>\n",
       "      <td>ID_bd8e11b0f</td>\n",
       "      <td>0.0</td>\n",
       "      <td>0</td>\n",
       "      <td>7</td>\n",
       "      <td>0</td>\n",
       "      <td>1</td>\n",
       "      <td>1</td>\n",
       "      <td>0</td>\n",
       "      <td>1.0</td>\n",
       "      <td>0</td>\n",
       "      <td>...</td>\n",
       "      <td>100</td>\n",
       "      <td>324</td>\n",
       "      <td>1</td>\n",
       "      <td>0</td>\n",
       "      <td>1</td>\n",
       "      <td>0.04</td>\n",
       "      <td>64.0</td>\n",
       "      <td>NaN</td>\n",
       "      <td>324</td>\n",
       "      <td>4</td>\n",
       "    </tr>\n",
       "    <tr>\n",
       "      <th>1840</th>\n",
       "      <td>ID_46ff87316</td>\n",
       "      <td>110000.0</td>\n",
       "      <td>0</td>\n",
       "      <td>1</td>\n",
       "      <td>0</td>\n",
       "      <td>1</td>\n",
       "      <td>1</td>\n",
       "      <td>0</td>\n",
       "      <td>1.0</td>\n",
       "      <td>0</td>\n",
       "      <td>...</td>\n",
       "      <td>36</td>\n",
       "      <td>324</td>\n",
       "      <td>4</td>\n",
       "      <td>16</td>\n",
       "      <td>4</td>\n",
       "      <td>4.00</td>\n",
       "      <td>64.0</td>\n",
       "      <td>NaN</td>\n",
       "      <td>324</td>\n",
       "      <td>4</td>\n",
       "    </tr>\n",
       "    <tr>\n",
       "      <th>1841</th>\n",
       "      <td>ID_69f50bf3e</td>\n",
       "      <td>110000.0</td>\n",
       "      <td>0</td>\n",
       "      <td>1</td>\n",
       "      <td>0</td>\n",
       "      <td>1</td>\n",
       "      <td>1</td>\n",
       "      <td>0</td>\n",
       "      <td>1.0</td>\n",
       "      <td>0</td>\n",
       "      <td>...</td>\n",
       "      <td>16</td>\n",
       "      <td>324</td>\n",
       "      <td>4</td>\n",
       "      <td>16</td>\n",
       "      <td>4</td>\n",
       "      <td>4.00</td>\n",
       "      <td>64.0</td>\n",
       "      <td>NaN</td>\n",
       "      <td>324</td>\n",
       "      <td>4</td>\n",
       "    </tr>\n",
       "    <tr>\n",
       "      <th>2049</th>\n",
       "      <td>ID_db3168f9f</td>\n",
       "      <td>180000.0</td>\n",
       "      <td>0</td>\n",
       "      <td>3</td>\n",
       "      <td>0</td>\n",
       "      <td>1</td>\n",
       "      <td>1</td>\n",
       "      <td>0</td>\n",
       "      <td>1.0</td>\n",
       "      <td>0</td>\n",
       "      <td>...</td>\n",
       "      <td>144</td>\n",
       "      <td>361</td>\n",
       "      <td>4</td>\n",
       "      <td>144</td>\n",
       "      <td>4</td>\n",
       "      <td>1.00</td>\n",
       "      <td>64.0</td>\n",
       "      <td>NaN</td>\n",
       "      <td>361</td>\n",
       "      <td>4</td>\n",
       "    </tr>\n",
       "    <tr>\n",
       "      <th>2050</th>\n",
       "      <td>ID_2a7615902</td>\n",
       "      <td>180000.0</td>\n",
       "      <td>0</td>\n",
       "      <td>3</td>\n",
       "      <td>0</td>\n",
       "      <td>1</td>\n",
       "      <td>1</td>\n",
       "      <td>0</td>\n",
       "      <td>1.0</td>\n",
       "      <td>0</td>\n",
       "      <td>...</td>\n",
       "      <td>144</td>\n",
       "      <td>361</td>\n",
       "      <td>4</td>\n",
       "      <td>144</td>\n",
       "      <td>4</td>\n",
       "      <td>1.00</td>\n",
       "      <td>64.0</td>\n",
       "      <td>NaN</td>\n",
       "      <td>361</td>\n",
       "      <td>4</td>\n",
       "    </tr>\n",
       "  </tbody>\n",
       "</table>\n",
       "<p>5 rows × 143 columns</p>\n",
       "</div>"
      ],
      "text/plain": [
       "                Id      v2a1  hacdor  rooms  hacapo  v14a  refrig  v18q  \\\n",
       "1291  ID_bd8e11b0f       0.0       0      7       0     1       1     0   \n",
       "1840  ID_46ff87316  110000.0       0      1       0     1       1     0   \n",
       "1841  ID_69f50bf3e  110000.0       0      1       0     1       1     0   \n",
       "2049  ID_db3168f9f  180000.0       0      3       0     1       1     0   \n",
       "2050  ID_2a7615902  180000.0       0      3       0     1       1     0   \n",
       "\n",
       "      v18q1  r4h1  ...  SQBescolari  SQBage  SQBhogar_total  SQBedjefe  \\\n",
       "1291    1.0     0  ...          100     324               1          0   \n",
       "1840    1.0     0  ...           36     324               4         16   \n",
       "1841    1.0     0  ...           16     324               4         16   \n",
       "2049    1.0     0  ...          144     361               4        144   \n",
       "2050    1.0     0  ...          144     361               4        144   \n",
       "\n",
       "      SQBhogar_nin  SQBovercrowding  SQBdependency  SQBmeaned  agesq  Target  \n",
       "1291             1             0.04           64.0        NaN    324       4  \n",
       "1840             4             4.00           64.0        NaN    324       4  \n",
       "1841             4             4.00           64.0        NaN    324       4  \n",
       "2049             4             1.00           64.0        NaN    361       4  \n",
       "2050             4             1.00           64.0        NaN    361       4  \n",
       "\n",
       "[5 rows x 143 columns]"
      ]
     },
     "execution_count": 42,
     "metadata": {},
     "output_type": "execute_result"
    }
   ],
   "source": [
    "# Check null values in SQBmeaned(square of the mean years of education of adults (>=18) in the household)\n",
    "income_train[income_train['SQBmeaned'].isnull()].head()"
   ]
  },
  {
   "cell_type": "code",
   "execution_count": 43,
   "id": "55b1cde5",
   "metadata": {},
   "outputs": [
    {
     "data": {
      "text/html": [
       "<div>\n",
       "<style scoped>\n",
       "    .dataframe tbody tr th:only-of-type {\n",
       "        vertical-align: middle;\n",
       "    }\n",
       "\n",
       "    .dataframe tbody tr th {\n",
       "        vertical-align: top;\n",
       "    }\n",
       "\n",
       "    .dataframe thead th {\n",
       "        text-align: right;\n",
       "    }\n",
       "</style>\n",
       "<table border=\"1\" class=\"dataframe\">\n",
       "  <thead>\n",
       "    <tr style=\"text-align: right;\">\n",
       "      <th></th>\n",
       "      <th>edjefe</th>\n",
       "      <th>edjefa</th>\n",
       "      <th>instlevel1</th>\n",
       "      <th>instlevel2</th>\n",
       "    </tr>\n",
       "  </thead>\n",
       "  <tbody>\n",
       "    <tr>\n",
       "      <th>count</th>\n",
       "      <td>9557.000000</td>\n",
       "      <td>9557.000000</td>\n",
       "      <td>9557.000000</td>\n",
       "      <td>9557.000000</td>\n",
       "    </tr>\n",
       "    <tr>\n",
       "      <th>mean</th>\n",
       "      <td>5.096788</td>\n",
       "      <td>2.896830</td>\n",
       "      <td>0.134666</td>\n",
       "      <td>0.170556</td>\n",
       "    </tr>\n",
       "    <tr>\n",
       "      <th>std</th>\n",
       "      <td>5.246513</td>\n",
       "      <td>4.612056</td>\n",
       "      <td>0.341384</td>\n",
       "      <td>0.376140</td>\n",
       "    </tr>\n",
       "    <tr>\n",
       "      <th>min</th>\n",
       "      <td>0.000000</td>\n",
       "      <td>0.000000</td>\n",
       "      <td>0.000000</td>\n",
       "      <td>0.000000</td>\n",
       "    </tr>\n",
       "    <tr>\n",
       "      <th>25%</th>\n",
       "      <td>0.000000</td>\n",
       "      <td>0.000000</td>\n",
       "      <td>0.000000</td>\n",
       "      <td>0.000000</td>\n",
       "    </tr>\n",
       "    <tr>\n",
       "      <th>50%</th>\n",
       "      <td>6.000000</td>\n",
       "      <td>0.000000</td>\n",
       "      <td>0.000000</td>\n",
       "      <td>0.000000</td>\n",
       "    </tr>\n",
       "    <tr>\n",
       "      <th>75%</th>\n",
       "      <td>9.000000</td>\n",
       "      <td>6.000000</td>\n",
       "      <td>0.000000</td>\n",
       "      <td>0.000000</td>\n",
       "    </tr>\n",
       "    <tr>\n",
       "      <th>max</th>\n",
       "      <td>21.000000</td>\n",
       "      <td>21.000000</td>\n",
       "      <td>1.000000</td>\n",
       "      <td>1.000000</td>\n",
       "    </tr>\n",
       "  </tbody>\n",
       "</table>\n",
       "</div>"
      ],
      "text/plain": [
       "            edjefe       edjefa   instlevel1   instlevel2\n",
       "count  9557.000000  9557.000000  9557.000000  9557.000000\n",
       "mean      5.096788     2.896830     0.134666     0.170556\n",
       "std       5.246513     4.612056     0.341384     0.376140\n",
       "min       0.000000     0.000000     0.000000     0.000000\n",
       "25%       0.000000     0.000000     0.000000     0.000000\n",
       "50%       6.000000     0.000000     0.000000     0.000000\n",
       "75%       9.000000     6.000000     0.000000     0.000000\n",
       "max      21.000000    21.000000     1.000000     1.000000"
      ]
     },
     "execution_count": 43,
     "metadata": {},
     "output_type": "execute_result"
    }
   ],
   "source": [
    "income_train[['edjefe','edjefa','instlevel1','instlevel2']].describe()"
   ]
  },
  {
   "cell_type": "code",
   "execution_count": 44,
   "id": "036169db",
   "metadata": {},
   "outputs": [
    {
     "data": {
      "text/html": [
       "<div>\n",
       "<style scoped>\n",
       "    .dataframe tbody tr th:only-of-type {\n",
       "        vertical-align: middle;\n",
       "    }\n",
       "\n",
       "    .dataframe tbody tr th {\n",
       "        vertical-align: top;\n",
       "    }\n",
       "\n",
       "    .dataframe thead th {\n",
       "        text-align: right;\n",
       "    }\n",
       "</style>\n",
       "<table border=\"1\" class=\"dataframe\">\n",
       "  <thead>\n",
       "    <tr style=\"text-align: right;\">\n",
       "      <th></th>\n",
       "      <th>edjefe</th>\n",
       "      <th>edjefa</th>\n",
       "      <th>instlevel1</th>\n",
       "      <th>instlevel2</th>\n",
       "    </tr>\n",
       "  </thead>\n",
       "  <tbody>\n",
       "    <tr>\n",
       "      <th>count</th>\n",
       "      <td>0.0</td>\n",
       "      <td>0.0</td>\n",
       "      <td>0.0</td>\n",
       "      <td>0.0</td>\n",
       "    </tr>\n",
       "    <tr>\n",
       "      <th>mean</th>\n",
       "      <td>NaN</td>\n",
       "      <td>NaN</td>\n",
       "      <td>NaN</td>\n",
       "      <td>NaN</td>\n",
       "    </tr>\n",
       "    <tr>\n",
       "      <th>std</th>\n",
       "      <td>NaN</td>\n",
       "      <td>NaN</td>\n",
       "      <td>NaN</td>\n",
       "      <td>NaN</td>\n",
       "    </tr>\n",
       "    <tr>\n",
       "      <th>min</th>\n",
       "      <td>NaN</td>\n",
       "      <td>NaN</td>\n",
       "      <td>NaN</td>\n",
       "      <td>NaN</td>\n",
       "    </tr>\n",
       "    <tr>\n",
       "      <th>25%</th>\n",
       "      <td>NaN</td>\n",
       "      <td>NaN</td>\n",
       "      <td>NaN</td>\n",
       "      <td>NaN</td>\n",
       "    </tr>\n",
       "    <tr>\n",
       "      <th>50%</th>\n",
       "      <td>NaN</td>\n",
       "      <td>NaN</td>\n",
       "      <td>NaN</td>\n",
       "      <td>NaN</td>\n",
       "    </tr>\n",
       "    <tr>\n",
       "      <th>75%</th>\n",
       "      <td>NaN</td>\n",
       "      <td>NaN</td>\n",
       "      <td>NaN</td>\n",
       "      <td>NaN</td>\n",
       "    </tr>\n",
       "    <tr>\n",
       "      <th>max</th>\n",
       "      <td>NaN</td>\n",
       "      <td>NaN</td>\n",
       "      <td>NaN</td>\n",
       "      <td>NaN</td>\n",
       "    </tr>\n",
       "  </tbody>\n",
       "</table>\n",
       "</div>"
      ],
      "text/plain": [
       "       edjefe  edjefa  instlevel1  instlevel2\n",
       "count     0.0     0.0         0.0         0.0\n",
       "mean      NaN     NaN         NaN         NaN\n",
       "std       NaN     NaN         NaN         NaN\n",
       "min       NaN     NaN         NaN         NaN\n",
       "25%       NaN     NaN         NaN         NaN\n",
       "50%       NaN     NaN         NaN         NaN\n",
       "75%       NaN     NaN         NaN         NaN\n",
       "max       NaN     NaN         NaN         NaN"
      ]
     },
     "execution_count": 44,
     "metadata": {},
     "output_type": "execute_result"
    }
   ],
   "source": [
    "income_train_sqmed_columns=['edjefe','edjefa','instlevel1','instlevel2']\n",
    "data[income_train_sqmed_columns][data[income_train_sqmed_columns]['instlevel1']>0].describe()"
   ]
  },
  {
   "cell_type": "markdown",
   "id": "30dc2998",
   "metadata": {},
   "source": [
    "#### Clearly here SQBmeaned  : square of the mean years of education of adults (>=18) in the household is null when instlevel1=1( no level of education) is zero "
   ]
  },
  {
   "cell_type": "markdown",
   "id": "32b6d9a5",
   "metadata": {},
   "source": [
    "### Treating missing values in meaneduc(average years of education for adults (18+)) column "
   ]
  },
  {
   "cell_type": "code",
   "execution_count": 45,
   "id": "cf28b24e",
   "metadata": {},
   "outputs": [
    {
     "data": {
      "text/plain": [
       "SQBmeaned    0\n",
       "dtype: int64"
      ]
     },
     "execution_count": 45,
     "metadata": {},
     "output_type": "execute_result"
    }
   ],
   "source": [
    "for df in [income_train, income_test]:\n",
    "    df['SQBmeaned'].fillna(value=0, inplace=True)\n",
    "income_train[['SQBmeaned']].isnull().sum()"
   ]
  },
  {
   "cell_type": "markdown",
   "id": "9504ba6b",
   "metadata": {},
   "source": [
    "### Again check the complete data for any null value "
   ]
  },
  {
   "cell_type": "code",
   "execution_count": 46,
   "id": "89eea8b9",
   "metadata": {},
   "outputs": [
    {
     "data": {
      "text/plain": [
       "Id                 0\n",
       "v2a1               0\n",
       "hacdor             0\n",
       "rooms              0\n",
       "hacapo             0\n",
       "                  ..\n",
       "SQBovercrowding    0\n",
       "SQBdependency      0\n",
       "SQBmeaned          0\n",
       "agesq              0\n",
       "Target             0\n",
       "Length: 143, dtype: int64"
      ]
     },
     "execution_count": 46,
     "metadata": {},
     "output_type": "execute_result"
    }
   ],
   "source": [
    "income_train.isnull().sum()"
   ]
  },
  {
   "cell_type": "markdown",
   "id": "46a5db65",
   "metadata": {},
   "source": [
    "#### Clearly there is no null values now in the data "
   ]
  },
  {
   "cell_type": "code",
   "execution_count": 47,
   "id": "90104743",
   "metadata": {},
   "outputs": [
    {
     "data": {
      "text/plain": [
       "idhogar\n",
       "001ff74ca    True\n",
       "003123ec2    True\n",
       "004616164    True\n",
       "004983866    True\n",
       "005905417    True\n",
       "             ... \n",
       "ff9343a35    True\n",
       "ff9d5ab17    True\n",
       "ffae4a097    True\n",
       "ffe90d46f    True\n",
       "fff7d6be1    True\n",
       "Name: Target, Length: 2988, dtype: bool"
      ]
     },
     "execution_count": 47,
     "metadata": {},
     "output_type": "execute_result"
    }
   ],
   "source": [
    "# Groupby the household and figure out the number of unique values (where targets are equal)\n",
    "income_train_tarequal=income_train.groupby('idhogar')['Target'].apply(lambda x: x.nunique() == 1)\n",
    "income_train_tarequal"
   ]
  },
  {
   "cell_type": "code",
   "execution_count": 48,
   "id": "84903318",
   "metadata": {},
   "outputs": [
    {
     "name": "stdout",
     "output_type": "stream",
     "text": [
      "There are 85 households where the family members do not all have the same target.\n"
     ]
    }
   ],
   "source": [
    "# Groupby the household and figure out the number of non-unique values (where targets are not equal)\n",
    "income_train_tarnotequal=income_train_tarequal[income_train_tarequal != True]\n",
    "#income_train_tarnotequal\n",
    "print('There are {} households where the family members do not all have the same target.'.format(len(income_train_tarnotequal)))"
   ]
  },
  {
   "cell_type": "code",
   "execution_count": 49,
   "id": "c043a846",
   "metadata": {},
   "outputs": [
    {
     "data": {
      "text/html": [
       "<div>\n",
       "<style scoped>\n",
       "    .dataframe tbody tr th:only-of-type {\n",
       "        vertical-align: middle;\n",
       "    }\n",
       "\n",
       "    .dataframe tbody tr th {\n",
       "        vertical-align: top;\n",
       "    }\n",
       "\n",
       "    .dataframe thead th {\n",
       "        text-align: right;\n",
       "    }\n",
       "</style>\n",
       "<table border=\"1\" class=\"dataframe\">\n",
       "  <thead>\n",
       "    <tr style=\"text-align: right;\">\n",
       "      <th></th>\n",
       "      <th>idhogar</th>\n",
       "      <th>parentesco1</th>\n",
       "      <th>Target</th>\n",
       "    </tr>\n",
       "  </thead>\n",
       "  <tbody>\n",
       "    <tr>\n",
       "      <th>7651</th>\n",
       "      <td>0172ab1d9</td>\n",
       "      <td>0</td>\n",
       "      <td>3</td>\n",
       "    </tr>\n",
       "    <tr>\n",
       "      <th>7652</th>\n",
       "      <td>0172ab1d9</td>\n",
       "      <td>0</td>\n",
       "      <td>2</td>\n",
       "    </tr>\n",
       "    <tr>\n",
       "      <th>7653</th>\n",
       "      <td>0172ab1d9</td>\n",
       "      <td>0</td>\n",
       "      <td>3</td>\n",
       "    </tr>\n",
       "    <tr>\n",
       "      <th>7654</th>\n",
       "      <td>0172ab1d9</td>\n",
       "      <td>1</td>\n",
       "      <td>3</td>\n",
       "    </tr>\n",
       "    <tr>\n",
       "      <th>7655</th>\n",
       "      <td>0172ab1d9</td>\n",
       "      <td>0</td>\n",
       "      <td>2</td>\n",
       "    </tr>\n",
       "  </tbody>\n",
       "</table>\n",
       "</div>"
      ],
      "text/plain": [
       "        idhogar  parentesco1  Target\n",
       "7651  0172ab1d9            0       3\n",
       "7652  0172ab1d9            0       2\n",
       "7653  0172ab1d9            0       3\n",
       "7654  0172ab1d9            1       3\n",
       "7655  0172ab1d9            0       2"
      ]
     },
     "execution_count": 49,
     "metadata": {},
     "output_type": "execute_result"
    }
   ],
   "source": [
    "#Lets check for only one household\n",
    "income_train[income_train['idhogar'] == income_train_tarnotequal.index[0]][['idhogar', 'parentesco1', 'Target']]"
   ]
  },
  {
   "cell_type": "markdown",
   "id": "0f815d6d",
   "metadata": {},
   "source": [
    "### Check for the families with head or not head "
   ]
  },
  {
   "cell_type": "code",
   "execution_count": 51,
   "id": "7e7971f0",
   "metadata": {},
   "outputs": [],
   "source": [
    "#Lets use Target value of the parent record (head of the household) and update rest. But before that lets check\n",
    "# if all families has a head. \n",
    "\n",
    "#households_head = df_income_train.groupby('idhogar')['parentesco1'].sum()\n",
    "\n",
    "# Find households without a head\n",
    "#households_no_head = df_income_train.loc[df_income_train['idhogar'].isin(households_head[households_head == 0].index), :]\n",
    "\n",
    "#print('There are {} households without a head.'.format(households_no_head['idhogar'].nunique()))"
   ]
  },
  {
   "cell_type": "code",
   "execution_count": 52,
   "id": "8b1b9513",
   "metadata": {},
   "outputs": [
    {
     "data": {
      "text/plain": [
       "idhogar\n",
       "001ff74ca    1\n",
       "003123ec2    1\n",
       "004616164    1\n",
       "004983866    1\n",
       "005905417    1\n",
       "            ..\n",
       "ff9343a35    1\n",
       "ff9d5ab17    1\n",
       "ffae4a097    1\n",
       "ffe90d46f    1\n",
       "fff7d6be1    1\n",
       "Name: parentesco1, Length: 2988, dtype: int64"
      ]
     },
     "execution_count": 52,
     "metadata": {},
     "output_type": "execute_result"
    }
   ],
   "source": [
    "#Check for the families those have head\n",
    "head_households=income_train.groupby('idhogar')['parentesco1'].sum()\n",
    "head_households"
   ]
  },
  {
   "cell_type": "code",
   "execution_count": 55,
   "id": "a0182c21",
   "metadata": {},
   "outputs": [
    {
     "name": "stdout",
     "output_type": "stream",
     "text": [
      "There are 2988 households with head.\n"
     ]
    }
   ],
   "source": [
    "print('There are {} households with head.'.format(len(head_households)))"
   ]
  },
  {
   "cell_type": "code",
   "execution_count": 65,
   "id": "e3020d3b",
   "metadata": {},
   "outputs": [],
   "source": [
    "#Check for the families those who don't have head\n",
    "no_head_households = income_train.loc[income_train['idhogar'].isin(head_households[head_households == 0].index), :]"
   ]
  },
  {
   "cell_type": "code",
   "execution_count": 64,
   "id": "e3f209c5",
   "metadata": {},
   "outputs": [
    {
     "name": "stdout",
     "output_type": "stream",
     "text": [
      "There are 15 households without a head.\n"
     ]
    }
   ],
   "source": [
    "print('There are {} households without a head.'.format(no_head_households['idhogar'].nunique()))"
   ]
  },
  {
   "cell_type": "markdown",
   "id": "000901c5",
   "metadata": {},
   "source": [
    "#### Check for households with and without a head and target values are different "
   ]
  },
  {
   "cell_type": "code",
   "execution_count": 72,
   "id": "5fd0457f",
   "metadata": {},
   "outputs": [
    {
     "name": "stdout",
     "output_type": "stream",
     "text": [
      "85 Households with head have different Target value.\n"
     ]
    }
   ],
   "source": [
    "head_households_equal = income_train.groupby('idhogar')['Target'].apply(lambda x: x.nunique() == 1)\n",
    "print('{} Households with head have different Target value.'.format(sum(head_households_equal == False)))"
   ]
  },
  {
   "cell_type": "code",
   "execution_count": 70,
   "id": "6e63fc3f",
   "metadata": {},
   "outputs": [
    {
     "name": "stdout",
     "output_type": "stream",
     "text": [
      "0 Households with no head have different Target value.\n"
     ]
    }
   ],
   "source": [
    "no_head_households_equal = no_head_households.groupby('idhogar')['Target'].apply(lambda x: x.nunique() == 1)\n",
    "print('{} Households with no head have different Target value.'.format(sum(no_head_households_equal == False)))"
   ]
  },
  {
   "cell_type": "code",
   "execution_count": null,
   "id": "2c72d1b2",
   "metadata": {},
   "outputs": [],
   "source": []
  }
 ],
 "metadata": {
  "kernelspec": {
   "display_name": "Python 3 (ipykernel)",
   "language": "python",
   "name": "python3"
  },
  "language_info": {
   "codemirror_mode": {
    "name": "ipython",
    "version": 3
   },
   "file_extension": ".py",
   "mimetype": "text/x-python",
   "name": "python",
   "nbconvert_exporter": "python",
   "pygments_lexer": "ipython3",
   "version": "3.9.13"
  }
 },
 "nbformat": 4,
 "nbformat_minor": 5
}
